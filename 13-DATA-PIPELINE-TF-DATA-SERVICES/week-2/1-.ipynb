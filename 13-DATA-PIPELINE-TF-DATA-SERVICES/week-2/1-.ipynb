{
 "cells": [
  {
   "cell_type": "markdown",
   "metadata": {},
   "source": [
    "# Selamat datang di Minggu 2 Kursus ini tentang TensorFlow Datasets\n",
    "\n",
    "Pada minggu lalu, Anda mendapatkan pengenalan tentang **TensorFlow Datasets (TFDS)**. Anda melihat bagaimana TFDS memberikan berbagai layanan dan dataset bawaan yang menghemat banyak waktu pengkodean. Misalnya, alih-alih mengunduh file zip, mengekstrak file tersebut, dan membagi data secara manual menjadi set pelatihan, pengujian, dan validasi, Anda dapat dengan mudah mendapatkan dataset lengkap hanya dengan satu baris kode.\n",
    "\n",
    "Anda juga mempelajari tentang **pola desain ETL** (Extract, Transform, Load), dan bagaimana TFDS memudahkan proses ini. \n",
    "\n",
    "## Minggu Ini: Pendalaman TensorFlow Datasets\n",
    "\n",
    "Minggu ini, kita akan menyelami lebih dalam tentang **TFDS**, dengan melihat beberapa alat yang memberi Anda kekuatan dan fleksibilitas saat bekerja dengan data. \n",
    "\n",
    "### 1. **Custom Splits dan Slices**\n",
    "Pada titik ini, semua **split** dan **slice** data sudah dikodekan secara statis untuk Anda. Misalnya, pada **MNIST** dan **Fashion-MNIST**, Anda memiliki set pelatihan yang telah ditentukan dengan 60.000 item dan set pengujian dengan 10.000 item. Anda mungkin ingin membagi data menjadi bagian-bagian yang lebih kecil dengan ukuran yang berbeda. Dengan **Splits API** dan TFDS, Anda dapat memotong dan membagi dataset sesuka hati sesuai dengan kebutuhan Anda.\n",
    "\n",
    "### 2. **Format TFRecord**\n",
    "Selanjutnya, kita akan melihat format **TFRecord**, yang menjadi dasar dari semua hal di TFDS. Ini adalah metode yang disarankan untuk menyimpan dan mengambil data dalam jumlah besar. Jika Anda menggunakan TFDS, Anda akan menggunakan **TFRecord**, oleh karena itu sangat penting untuk memahami cara kerjanya.\n",
    "\n",
    "### 3. **Menggunakan API Splits untuk Kontrol Data yang Lebih Detail**\n",
    "Sebelum kita membahas lebih dalam tentang **TFRecord**, mari kita lihat API **splits** dan bagaimana Anda bisa menggunakannya untuk mendapatkan kontrol yang lebih halus atas data Anda."
   ]
  },
  {
   "cell_type": "markdown",
   "metadata": {},
   "source": []
  },
  {
   "cell_type": "markdown",
   "metadata": {},
   "source": []
  },
  {
   "cell_type": "markdown",
   "metadata": {},
   "source": []
  }
 ],
 "metadata": {
  "language_info": {
   "name": "python"
  }
 },
 "nbformat": 4,
 "nbformat_minor": 2
}
