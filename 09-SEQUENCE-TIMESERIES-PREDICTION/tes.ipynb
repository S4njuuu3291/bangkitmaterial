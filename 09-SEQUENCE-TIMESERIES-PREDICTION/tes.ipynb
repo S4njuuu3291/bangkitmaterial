{
 "cells": [
  {
   "cell_type": "code",
   "execution_count": null,
   "metadata": {},
   "outputs": [],
   "source": [
    "import matplotlib.pyplot as plt\n",
    "\n",
    "# Data koordinat dan label\n",
    "data = {\n",
    "    'M1': (2, 10),\n",
    "    'M2': (2, 5),\n",
    "    'M3': (8, 4),\n",
    "    'M4': (5, 8),\n",
    "    'M5': (7, 5),\n",
    "    'M6': (6, 4),\n",
    "    'M7': (1, 2),\n",
    "    'M8': (4, 9)\n",
    "}\n",
    "\n",
    "# Memisahkan data menjadi dua list untuk x dan y\n",
    "x_values = [coord[0] for coord in data.values()]\n",
    "y_values = [coord[1] for coord in data.values()]\n",
    "labels = list(data.keys())\n",
    "\n",
    "# Membuat scatter plot\n",
    "plt.figure(figsize=(8, 6))\n",
    "plt.scatter(x_values, y_values, color='b', marker='o')\n",
    "\n",
    "# Menambahkan label untuk setiap titik\n",
    "for label, x, y in zip(labels, x_values, y_values):\n",
    "    plt.text(x, y, label, fontsize=12, ha='right')\n",
    "\n",
    "# Memberikan label untuk sumbu x dan y\n",
    "plt.xlabel('X')\n",
    "plt.ylabel('Y')\n",
    "\n",
    "# Menampilkan plot\n",
    "plt.grid(True)\n",
    "plt.show()"
   ]
  },
  {
   "cell_type": "code",
   "execution_count": null,
   "metadata": {},
   "outputs": [],
   "source": []
  }
 ],
 "metadata": {
  "kernelspec": {
   "display_name": "base",
   "language": "python",
   "name": "python3"
  },
  "language_info": {
   "name": "python",
   "version": "3.12.4"
  }
 },
 "nbformat": 4,
 "nbformat_minor": 2
}
