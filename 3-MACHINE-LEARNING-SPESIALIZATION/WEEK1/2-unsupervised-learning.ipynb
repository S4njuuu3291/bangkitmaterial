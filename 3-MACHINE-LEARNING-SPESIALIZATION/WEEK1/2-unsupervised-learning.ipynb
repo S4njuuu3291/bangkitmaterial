{
 "cells": [
  {
   "cell_type": "markdown",
   "metadata": {},
   "source": [
    "# Unsupervised Learning: Penjelasan dan Contoh\n",
    "\n",
    "## Definisi:\n",
    "- Setelah **supervised learning**, jenis pembelajaran mesin yang paling umum adalah **unsupervised learning**.\n",
    "- **Unsupervised learning** tidak memberikan label pada data. Algoritma harus menemukan pola atau struktur di dalam data tanpa bantuan label.\n",
    "\n",
    "---\n",
    "\n",
    "## Contoh 1: Clustering pada Berita\n",
    "- **Google News** menggunakan algoritma **clustering** untuk mengelompokkan artikel berita berdasarkan kesamaan kata kunci (misalnya, \"panda\", \"kembar\", \"zoo\").\n",
    "- Algoritma menemukan artikel yang berhubungan tanpa ada pengawasan manusia, hanya dengan melihat kesamaan kata yang ada dalam artikel-artikel tersebut.\n",
    "- **Tujuannya:** Menyusun berita yang relevan ke dalam satu grup atau cluster yang serupa.\n",
    "\n",
    "---\n",
    "\n",
    "## Contoh 2: Clustering pada Data Genetik (DNA)\n",
    "- Data genetik atau **DNA microarray** menunjukkan aktivitas gen pada individu-individu berbeda (misalnya, gen yang mempengaruhi warna mata atau tinggi badan).\n",
    "- Dengan **clustering**, data ini bisa dikelompokkan berdasarkan pola aktivitas genetik yang mirip.\n",
    "- **Tujuannya:** Mengidentifikasi kelompok individu berdasarkan karakteristik genetik mereka, tanpa memberi label pada data.\n",
    "\n",
    "---\n",
    "\n",
    "## Contoh 3: Segmentasi Pasar pada Pelanggan\n",
    "- Banyak perusahaan menggunakan **unsupervised learning** untuk mengelompokkan pelanggan berdasarkan data mereka.\n",
    "- Misalnya, **Deep Learning AI** menggunakan clustering untuk memahami motivasi orang-orang yang mengikuti kursus mereka, seperti:\n",
    "  - Meningkatkan keterampilan.\n",
    "  - Meningkatkan karier.\n",
    "  - Mengetahui perkembangan terbaru di AI.\n",
    "- **Tujuannya:** Memahami segmen pasar dan melayani pelanggan dengan lebih baik.\n",
    "\n",
    "---\n"
   ]
  },
  {
   "cell_type": "markdown",
   "metadata": {},
   "source": []
  },
  {
   "cell_type": "markdown",
   "metadata": {},
   "source": [
    "# Unsupervised Learning: Definisi dan Jenis Lainnya\n",
    "\n",
    "## Definisi Unsupervised Learning\n",
    "- **Unsupervised learning** berbeda dengan **supervised learning**. Pada supervised learning, data disertai dengan input **x** dan label output **y**.\n",
    "- Pada **unsupervised learning**, data hanya diberikan input **x** tanpa label output **y**, dan algoritma harus menemukan struktur, pola, atau hal menarik dalam data tersebut.\n",
    "\n",
    "---\n",
    "\n",
    "## Clustering\n",
    "- Salah satu contoh dari **unsupervised learning** adalah **clustering**, yang mengelompokkan data serupa bersama-sama.\n",
    "- Kita sudah melihat contoh clustering pada video sebelumnya, di mana artikel berita dikelompokkan berdasarkan kata kunci yang serupa.\n",
    "\n",
    "---\n",
    "\n",
    "## Jenis-Jenis Unsupervised Learning Lainnya\n",
    "- Selain **clustering**, ada dua jenis unsupervised learning lain yang akan dipelajari dalam spesialisasi ini:\n",
    "  1. **Anomaly detection** (Deteksi Anomali): Digunakan untuk mendeteksi kejadian yang tidak biasa, seperti dalam **fraud detection** di sistem keuangan, yang berguna untuk mendeteksi transaksi yang mencurigakan.\n",
    "  2. **Dimensionality reduction** (Reduksi Dimensi): Mengurangi ukuran dataset yang besar menjadi lebih kecil dengan tetap mempertahankan informasi sebanyak mungkin.\n",
    "\n",
    "---\n",
    "\n",
    "## Contoh Soal: Jenis-Jenis Unsupervised Learning\n",
    "1. **Spam Filtering**: Masalah ini menggunakan data yang sudah dilabeli (spam atau non-spam) dan merupakan masalah **supervised learning**.\n",
    "2. **Clustering Berita (Google News)**: Pengelompokan artikel berita berdasarkan kesamaan kata kunci. Ini menggunakan **unsupervised learning**.\n",
    "3. **Segmentasi Pasar**: Menggunakan data untuk mengelompokkan pelanggan tanpa label. Ini juga merupakan masalah **unsupervised learning**.\n",
    "4. **Diagnosis Diabetes**: Ini adalah masalah **supervised learning**, karena melibatkan label seperti diabetes atau tidak.\n",
    "\n",
    "---\n",
    "\n",
    "## Rangkuman\n",
    "- Kita telah melihat bahwa **unsupervised learning** memungkinkan algoritma menemukan pola dalam data tanpa label. \n",
    "- Meskipun video ini lebih fokus pada **clustering**, pada video-video mendatang kita akan menggali lebih dalam tentang **anomaly detection** dan **dimensionality reduction**.\n",
    "- Sebagai penutupan, saya ingin berbagi sesuatu yang sangat menarik dan berguna dalam machine learning, yaitu penggunaan **Jupyter Notebooks**. Kita akan bahas lebih lanjut di video selanjutnya.\n",
    "\n"
   ]
  }
 ],
 "metadata": {
  "language_info": {
   "name": "python"
  }
 },
 "nbformat": 4,
 "nbformat_minor": 2
}
