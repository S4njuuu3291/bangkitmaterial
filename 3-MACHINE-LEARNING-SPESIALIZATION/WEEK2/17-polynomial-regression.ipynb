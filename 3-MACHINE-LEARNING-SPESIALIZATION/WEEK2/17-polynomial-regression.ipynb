{
 "cells": [
  {
   "cell_type": "markdown",
   "metadata": {},
   "source": [
    "# Regresi Polinomial: Memahami Model yang Lebih Kompleks\n",
    "\n",
    "Sejauh ini, kita hanya menyesuaikan garis lurus pada data kita. Namun, sekarang saatnya untuk menjelajahi konsep yang lebih mendalam! Mari kita gunakan **regresi linier berganda** dan **rekayasa fitur** untuk mengembangkan algoritma baru yang kita sebut **regresi polinomial**. Dengan regresi polinomial, Anda dapat menyesuaikan **kurva** atau **fungsi non-linear** ke dalam data Anda.\n",
    "\n",
    "## Contoh Data Set Perumahan\n",
    "\n",
    "Bayangkan Anda memiliki sebuah **dataset perumahan** yang terlihat seperti ini, di mana fitur x adalah **ukuran dalam kaki persegi**. Data ini tidak tampak cocok dengan garis lurus. Mungkin Anda ingin menyesuaikan **kurva**, seperti fungsi **kuadratik** yang mencakup ukuran x dan juga x kuadrat (x²). Dengan menggunakan x², Anda mungkin mendapatkan kecocokan yang lebih baik untuk data Anda.\n",
    "\n",
    "Namun, ada satu pertimbangan penting. Model kuadratik cenderung kembali turun, dan kita tidak mengharapkan harga perumahan turun saat ukuran meningkat. Rumah yang lebih besar umumnya **harus** lebih mahal, bukan? \n",
    "\n",
    "### Beralih ke Fungsi Kubik\n",
    "\n",
    "Jika model kuadratik tidak memadai, Anda dapat mempertimbangkan menggunakan **fungsi kubik**. Dalam model ini, kita tidak hanya menggunakan x kuadrat, tetapi juga **x kubik** (x³). Dengan model ini, Anda mungkin mendapatkan kurva yang lebih baik, di mana ukuran akhirnya kembali meningkat seiring pertumbuhan ukuran rumah. \n",
    "\n",
    "### Apa Itu Regresi Polinomial?\n",
    "\n",
    "Kedua contoh ini adalah contoh dari **regresi polinomial**. Anda mengambil fitur x dan memangkatkannya ke dua, tiga, atau bahkan pangkat lainnya. Dalam fungsi kubik, kita memiliki:\n",
    "- **Fitur Pertama**: Ukuran (x)\n",
    "- **Fitur Kedua**: Ukuran kuadrat (x²)\n",
    "- **Fitur Ketiga**: Ukuran kubik (x³)\n",
    "\n",
    "### Pentingnya Skala Fitur\n",
    "\n",
    "Satu hal yang perlu diperhatikan adalah, jika Anda membuat fitur dengan pangkat seperti kuadrat dari fitur asli, **skala fitur** menjadi sangat penting. Misalnya, jika ukuran rumah berkisar antara 1 hingga 1.000 kaki persegi, maka fitur kedua (ukuran kuadrat) akan berkisar dari satu hingga satu juta, dan fitur ketiga (ukuran kubik) akan berkisar dari satu hingga satu miliar. \n",
    "\n",
    "Fitur x kuadrat dan x kubik memiliki rentang nilai yang sangat berbeda dibandingkan dengan fitur asli x. Oleh karena itu, jika Anda menggunakan **gradien desent**, penting untuk menerapkan **skala fitur** agar fitur-fitur Anda memiliki rentang nilai yang dapat dibandingkan.\n",
    "\n",
    "### Pilihan Fitur Alternatif\n",
    "\n",
    "Mari kita lihat alternatif lain. Sebagai pengganti ukuran kuadrat dan ukuran kubik, Anda juga bisa mempertimbangkan **akar kuadrat dari x**. Dalam hal ini, model Anda mungkin terlihat seperti:\n",
    "\\[ w_1 \\cdot x + w_2 \\cdot \\sqrt{x} + b \\]\n",
    "\n",
    "Fungsi akar kuadrat memiliki karakteristik unik; ia menjadi kurang curam seiring dengan meningkatnya nilai x, tetapi tidak pernah benar-benar datar, dan pasti tidak pernah turun kembali. Ini adalah pilihan fitur lain yang mungkin juga cocok untuk dataset ini.\n",
    "\n",
    "### Memilih Fitur yang Tepat\n",
    "\n",
    "Anda mungkin bertanya, **bagaimana saya memutuskan fitur mana yang harus digunakan?** Di kursus kedua dalam spesialisasi ini, Anda akan belajar cara memilih fitur dan model yang berbeda, baik yang menyertakan atau tidak menyertakan fitur tersebut. Anda juga akan mendapatkan proses untuk mengukur seberapa baik performa model-model ini, membantu Anda memutuskan fitur mana yang perlu dipertimbangkan.\n",
    "\n",
    "**Jangan lupa!** Anda memiliki kebebasan untuk memilih fitur yang Anda gunakan. Dengan menerapkan rekayasa fitur dan fungsi polinomial, Anda berpotensi mendapatkan model yang jauh lebih baik untuk data Anda.\n",
    "\n",
    "### Lab Opsional\n",
    "\n",
    "Dalam lab opsional yang menyusul video ini, Anda akan melihat beberapa kode yang mengimplementasikan **regresi polinomial** dengan menggunakan fitur seperti x, x kuadrat, dan x kubik. Silakan cek dan jalankan kodenya untuk melihat cara kerjanya. \n",
    "\n",
    "Ada juga lab opsional lainnya yang menunjukkan cara menggunakan **toolkit open source** yang populer untuk melakukan regresi linier. **Scikit-learn** adalah pustaka machine learning open source yang sangat banyak digunakan oleh praktisi di banyak perusahaan terkemuka di bidang AI dan machine learning di seluruh dunia. \n",
    "\n",
    "Jika Anda menggunakan machine learning di pekerjaan Anda sekarang atau di masa depan, kemungkinan besar Anda akan menggunakan alat seperti Scikit-learn untuk melatih model Anda. Melalui lab opsional ini, Anda akan memiliki kesempatan tidak hanya untuk memahami regresi linier, tetapi juga untuk melihat bagaimana ini dapat dilakukan dalam beberapa baris kode dengan menggunakan pustaka seperti Scikit-learn.\n",
    "\n",
    "Untuk benar-benar memahami algoritma-algoritma ini dan dapat menerapkannya, penting bagi Anda untuk tahu cara menerapkan regresi linier secara manual, bukan hanya menggunakan fungsi scikit-learn yang merupakan **black box**. Namun, Scikit-learn juga memiliki peran penting dalam praktik machine learning saat ini.\n",
    "\n",
    "### Penutup\n",
    "\n",
    "Kita sudah hampir di akhir minggu ini. **Selamat** telah menyelesaikan semua video minggu ini! Jangan lupa untuk melihat kuis praktik dan lab praktik yang saya harap dapat memberikan kesempatan bagi Anda untuk mencoba dan mempraktikkan ide-ide yang telah kita diskusikan.\n",
    "\n",
    "Di lab praktik minggu ini, Anda akan menerapkan **regresi linier**. Saya harap Anda menikmati proses mendapatkan algoritma pembelajaran ini bekerja untuk Anda. \n",
    "\n",
    "Semoga sukses dengan itu! Saya juga sangat menantikan untuk melihat Anda di video minggu depan, di mana kita akan melangkah lebih jauh dari regresi (memprediksi angka) untuk membahas algoritma klasifikasi pertama kita, yang dapat memprediksi kategori. **Sampai jumpa minggu depan!**\n"
   ]
  },
  {
   "cell_type": "markdown",
   "metadata": {},
   "source": []
  }
 ],
 "metadata": {
  "language_info": {
   "name": "python"
  }
 },
 "nbformat": 4,
 "nbformat_minor": 2
}
