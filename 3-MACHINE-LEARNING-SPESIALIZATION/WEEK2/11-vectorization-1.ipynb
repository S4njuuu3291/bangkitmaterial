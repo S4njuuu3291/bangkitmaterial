{
 "cells": [
  {
   "cell_type": "markdown",
   "metadata": {},
   "source": [
    "Tentu! Berikut versi yang lebih rapi, ringkas, dan menggunakan format Markdown yang sesuai untuk notebook:\n",
    "\n",
    "markdown\n",
    "Copy code\n",
    "### Vectorization dalam Pembelajaran Mesin\n",
    "\n",
    "Vectorization adalah teknik yang mempercepat eksekusi kode dengan menggunakan operasi vektor. Dengan vectorization, kode menjadi lebih singkat dan lebih efisien, serta memungkinkan pemanfaatan perangkat keras modern seperti GPU (Graphics Processing Unit).\n",
    "\n",
    "#### Contoh Tanpa Vectorization\n",
    "\n",
    "Misalnya, dengan parameter `w` (vektor) dan `x` (vektor fitur), kita dapat menghitung prediksi model tanpa vectorization seperti berikut:\n",
    "\n",
    "```python\n",
    "f = 0\n",
    "for j in range(n):\n",
    "    f += w[j] * x[j]\n",
    "f += b\n",
    "Namun, ini tidak efisien untuk n yang besar. Kita bisa menggunakan vectorization untuk menyederhanakannya.\n",
    "\n",
    "Implementasi dengan Vectorization\n",
    "Menggunakan fungsi np.dot() dari NumPy untuk operasi dot product vektor:\n",
    "\n",
    "python\n",
    "Copy code\n",
    "fp = np.dot(w, x) + b\n",
    "Ini jauh lebih cepat, terutama untuk n besar, karena NumPy menggunakan perangkat keras paralel seperti GPU.\n",
    "\n",
    "Manfaat Vectorization\n",
    "Kode lebih singkat – Hanya satu baris kode.\n",
    "Eksekusi lebih cepat – Memanfaatkan perangkat keras paralel.\n",
    "Dengan demikian, vectorization tidak hanya membuat kode lebih mudah dibaca, tetapi juga meningkatkan efisiensi komputasi secara signifikan."
   ]
  }
 ],
 "metadata": {
  "language_info": {
   "name": "python"
  }
 },
 "nbformat": 4,
 "nbformat_minor": 2
}
