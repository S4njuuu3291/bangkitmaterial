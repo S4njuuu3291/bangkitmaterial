{
 "cells": [
  {
   "cell_type": "markdown",
   "metadata": {},
   "source": [
    "### Pentingnya Pemilihan dan Rekayasa Fitur\n",
    "\n",
    "Pemilihan **fitur** memiliki **dampak besar** pada kinerja algoritma pembelajaran Anda. Dalam banyak aplikasi praktis, memilih atau memasukkan fitur yang tepat adalah langkah kritis untuk memastikan algoritma dapat bekerja dengan baik. Dalam video ini, kita akan membahas bagaimana cara memilih atau merekayasa fitur yang paling sesuai untuk algoritma pembelajaran Anda.\n",
    "\n",
    "#### Contoh: Memprediksi Harga Rumah\n",
    "\n",
    "Mari kita lihat **rekayasa fitur** melalui contoh memprediksi harga rumah. Misalkan Anda memiliki dua fitur untuk setiap rumah:\n",
    "\n",
    "- **x₁**: Lebar ukuran lot dari lahan tempat rumah dibangun, yang dalam real estat juga disebut **depan lot**.\n",
    "- **x₂**: Kedalaman ukuran lot dari plot tanah berbentuk persegi panjang tempat rumah dibangun.\n",
    "\n",
    "Dengan dua fitur ini, kita bisa membangun model sederhana seperti:\n",
    "\n",
    "$$ f(x) = w₁x₁ + w₂x₂ + b $$\n",
    "\n",
    "Di mana:\n",
    "- **x₁** adalah lebar,\n",
    "- **x₂** adalah kedalaman.\n",
    "\n",
    "Model ini mungkin bekerja dengan baik. Namun, ada opsi lain yang bisa kita eksplorasi untuk menggunakan fitur ini secara lebih efektif. \n",
    "\n",
    "#### Memahami Luas Lahan\n",
    "\n",
    "Anda mungkin memperhatikan bahwa **luas lahan** dapat dihitung sebagai lebar (x₁) kali kedalaman (x₂):\n",
    "\n",
    "$$ \\text{Luas} = x₁ \\times x₂ $$\n",
    "\n",
    "Anda mungkin memiliki intuisi bahwa **luas lahan** lebih prediktif terhadap harga dibandingkan lebar dan kedalaman sebagai fitur terpisah. Oleh karena itu, kita bisa mendefinisikan fitur baru, **x₃**, sebagai:\n",
    "\n",
    "$$ x₃ = x₁ \\times x₂ $$\n",
    "\n",
    "Dengan fitur baru ini, model kita bisa diperbarui menjadi:\n",
    "\n",
    "$$ f(w, b)(x) = w₁x₁ + w₂x₂ + w₃x₃ + b $$\n",
    "\n",
    "Sekarang, model dapat memilih parameter \\( w₁, w₂, \\) dan \\( w₃ \\) tergantung pada apakah lebar (x₁), kedalaman (x₂), atau luas (x₃) dari plot lahan yang paling penting untuk memprediksi harga rumah.\n",
    "\n",
    "#### Apa Itu Rekayasa Fitur?\n",
    "\n",
    "Apa yang baru saja kita lakukan—menciptakan fitur baru—adalah contoh dari **rekayasa fitur**. Ini adalah proses di mana Anda menggunakan pengetahuan atau intuisi tentang masalah untuk merancang fitur baru, sering kali dengan mentransformasi atau menggabungkan fitur asli agar algoritma pembelajaran dapat membuat prediksi yang lebih akurat.\n",
    "\n",
    "Dengan mendefinisikan fitur baru, Anda mungkin mendapatkan model yang jauh lebih baik daripada hanya menggunakan fitur yang sudah ada. \n",
    "\n",
    "#### Menuju Fungsi Non-Linier\n",
    "\n",
    "Salah satu bentuk rekayasa fitur ini memungkinkan Anda untuk mencocokkan bukan hanya garis lurus, tetapi juga **kurva** atau **fungsi non-linier** pada data Anda. Mari kita lihat di video berikutnya bagaimana cara melakukannya.\n"
   ]
  }
 ],
 "metadata": {
  "language_info": {
   "name": "python"
  }
 },
 "nbformat": 4,
 "nbformat_minor": 2
}
