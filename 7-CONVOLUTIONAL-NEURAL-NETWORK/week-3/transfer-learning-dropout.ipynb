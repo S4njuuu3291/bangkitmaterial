{
 "cells": [
  {
   "cell_type": "markdown",
   "metadata": {},
   "source": [
    "## Menghindari Overfitting dengan Dropout\n",
    "\n",
    "Dalam pelajaran sebelumnya, kita telah melihat bagaimana melakukan transfer learning. Namun, ketika kita melatih ulang fitur klasifikasi inception untuk kucing versus anjing, kita mengalami overfitting lagi. Meskipun kita sudah menerapkan augmentasi, masalah overfitting masih terjadi. Mari kita bahas beberapa cara untuk menghindarinya dalam pelajaran ini.\n",
    "\n",
    "### Akurasi Set Pelatihan vs. Set Validasi\n",
    "\n",
    "Berikut adalah grafik akurasi set pelatihan kita dibandingkan dengan set validasi selama 100 epoch. Hasilnya tidak terlihat baik. \n",
    "\n",
    "### Apa Itu Dropout?\n",
    "\n",
    "Ada tipe layer lain di Keras yang disebut **dropout**. Ide di balik dropout adalah bahwa layer dalam jaringan saraf terkadang dapat memiliki bobot yang mirip dan berpotensi saling mempengaruhi, yang dapat menyebabkan overfitting. Dengan model yang kompleks seperti ini, risikonya cukup besar.\n",
    "\n",
    "### Cara Kerja Dropout\n",
    "\n",
    "Bayangkan layer dense terlihat seperti ini. Dengan melakukan dropout pada beberapa neuron, kita membuatnya terlihat seperti ini. Hal ini mengurangi pengaruh antar tetangga dan berpotensi mengurangi overfitting.\n",
    "\n",
    "### Implementasi dalam Kode\n",
    "\n",
    "Mari kita lihat definisi model kita sebelumnya dan di mana kita menambahkan dropout. Parameter dropout berkisar antara 0 hingga 1, yang merupakan fraksi unit yang akan di-drop. Dalam kasus ini, kita menghapus 20% dari neuron kita.\n",
    "\n",
    "### Perbandingan Akurasi\n",
    "\n",
    "Sebagai perbandingan, berikut adalah grafik akurasi pelatihan sebelum dropout ditambahkan. Ketika Anda melihat akurasi validasi menyimpang dari pelatihan seiring waktu, ini adalah kandidat yang baik untuk mencoba menggunakan dropout. Berikut adalah dampak dari penambahan dropout. Anda dapat melihat bahwa efeknya sangat signifikan.\n",
    "\n",
    "### Kesimpulan\n",
    "\n",
    "Mari kita lihat lebih lanjut tentang ini dalam workbook.\n"
   ]
  }
 ],
 "metadata": {
  "language_info": {
   "name": "python"
  }
 },
 "nbformat": 4,
 "nbformat_minor": 2
}
