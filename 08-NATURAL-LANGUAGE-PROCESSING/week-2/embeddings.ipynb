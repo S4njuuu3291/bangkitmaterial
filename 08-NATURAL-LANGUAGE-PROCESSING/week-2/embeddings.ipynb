{
 "cells": [
  {
   "cell_type": "markdown",
   "metadata": {},
   "source": [
    "# Apa Itu Embeddings?\n",
    "\n",
    "Embeddings adalah representasi numerik dari entitas diskrit, seperti kata atau frasa, dalam bentuk vektor berdimensi rendah. Teknik ini banyak digunakan dalam Natural Language Processing (NLP) untuk menangkap makna semantik dari kata-kata dan hubungan di antara mereka. Dalam embeddings, setiap kata diwakili oleh vektor yang memuat informasi tentang makna dan konteks kata tersebut.\n",
    "\n",
    "## Mengapa Kita Menggunakan Embeddings?\n",
    "\n",
    "### 1. Mengurangi Dimensi\n",
    "- **Definisi**: Embeddings mengonversi kata-kata yang mungkin memiliki dimensi sangat tinggi (misalnya, ratusan ribu kata) menjadi vektor dengan dimensi yang jauh lebih kecil (misalnya, 50, 100, atau 300 dimensi).\n",
    "- **Keuntungan**: Ini mengurangi kompleksitas komputasi dan memungkinkan model untuk beroperasi lebih efisien.\n",
    "\n",
    "### 2. Menangkap Makna Semantik\n",
    "- **Definisi**: Dalam embeddings, kata-kata yang memiliki makna serupa akan memiliki representasi vektor yang dekat satu sama lain dalam ruang vektor.\n",
    "- **Contoh**: Kata \"king\" dan \"queen\" mungkin memiliki vektor yang berdekatan, sementara \"king\" dan \"car\" akan jauh lebih terpisah.\n",
    "- **Keuntungan**: Ini membantu model dalam memahami konteks dan hubungan antara kata-kata, yang sangat penting dalam aplikasi NLP.\n",
    "\n",
    "### 3. Efisiensi Penyimpanan\n",
    "- **Definisi**: Dengan embeddings, kita bisa menyimpan representasi vektor kata-kata dalam memori dengan ukuran yang jauh lebih kecil dibandingkan dengan metode tradisional seperti one-hot encoding.\n",
    "- **Contoh**: Jika kita memiliki 10.000 kata dalam kosakata, one-hot encoding memerlukan 10.000 dimensi, sedangkan embeddings bisa menggunakan hanya 100 dimensi.\n",
    "- **Keuntungan**: Ini mengurangi kebutuhan untuk penyimpanan dan mempercepat proses pelatihan model.\n",
    "\n",
    "## Cara Kerja Embeddings\n",
    "\n",
    "### Proses Pembelajaran\n",
    "- **Word2Vec**: Salah satu teknik paling populer untuk menghasilkan embeddings. Model ini dilatih menggunakan dua pendekatan utama: Continuous Bag of Words (CBOW) dan Skip-gram.\n",
    "  - **CBOW**: Memprediksi kata target berdasarkan kata-kata di sekitarnya.\n",
    "  - **Skip-gram**: Memprediksi kata-kata di sekitar berdasarkan kata target.\n",
    "- **GloVe (Global Vectors for Word Representation)**: Menggunakan informasi statistik dari korpus teks untuk menghasilkan embeddings dengan menangkap hubungan global antar kata.\n",
    "- **FastText**: Mengembangkan embeddings yang memperhitungkan sub-kata, sehingga kata yang mirip dalam struktur juga dapat memiliki embeddings yang dekat.\n",
    "\n",
    "### Visualisasi\n",
    "- Embeddings dapat divisualisasikan menggunakan teknik seperti t-SNE atau PCA untuk melihat bagaimana kata-kata dikelompokkan berdasarkan maknanya. Visualisasi ini membantu dalam memahami bagaimana model memahami dan membedakan kata-kata.\n",
    "\n",
    "## Aplikasi Embeddings\n",
    "\n",
    "Embeddings digunakan dalam berbagai aplikasi NLP, antara lain:\n",
    "- **Pengenalan Suara**: Membantu model memahami konteks dan makna dari ucapan.\n",
    "- **Penerjemahan Bahasa**: Memungkinkan model menerjemahkan kata dan frasa dengan mempertimbangkan konteks semantik.\n",
    "- **Sistem Rekomendasi**: Menggunakan embeddings untuk merekomendasikan konten yang relevan kepada pengguna berdasarkan preferensi mereka.\n",
    "- **Klasifikasi Teks**: Membantu dalam pengelompokan dan klasifikasi dokumen berdasarkan konten mereka.\n",
    "\n",
    "## Kesimpulan\n",
    "\n",
    "Embeddings adalah alat yang sangat penting dalam pengolahan bahasa alami dan machine learning. Dengan mengonversi kata-kata menjadi representasi vektor yang lebih kompak dan bermakna, model dapat belajar dari data dengan cara yang lebih efisien dan efektif. Teknik embeddings tidak hanya mengurangi kompleksitas komputasi, tetapi juga meningkatkan kemampuan model untuk memahami hubungan semantik yang kompleks antar kata.\n"
   ]
  },
  {
   "cell_type": "markdown",
   "metadata": {},
   "source": []
  }
 ],
 "metadata": {
  "language_info": {
   "name": "python"
  }
 },
 "nbformat": 4,
 "nbformat_minor": 2
}
