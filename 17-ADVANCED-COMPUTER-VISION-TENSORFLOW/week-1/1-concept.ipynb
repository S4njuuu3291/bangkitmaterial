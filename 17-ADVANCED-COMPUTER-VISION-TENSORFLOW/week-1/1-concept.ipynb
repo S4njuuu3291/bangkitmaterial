{
 "cells": [
  {
   "cell_type": "markdown",
   "metadata": {},
   "source": [
    "# **Panduan Dasar: Klasifikasi Gambar dan Deteksi Objek**\n",
    "\n",
    "## **Pengantar**\n",
    "Pada minggu ini, Anda telah mempelajari dasar-dasar klasifikasi gambar, termasuk menggunakan **transfer learning** dalam beberapa skenario:  \n",
    "- **Binary Classifier**: Menggunakan bobot model yang dibekukan dari model lain.  \n",
    "- **Multi-Class Classifier**: Tidak membekukan bobot, tetapi menggunakan bobot sebagai titik awal, dengan melatih classifier pada dataset **CIFAR-10**.  \n",
    "\n",
    "Selain itu, Anda telah membahas tentang **object detection**, yang tidak hanya mengklasifikasikan objek dalam gambar, tetapi juga menentukan lokasi objek menggunakan **bounding box**.\n",
    "\n",
    "---\n",
    "\n",
    "## **Pengenalan Deteksi Objek**\n",
    "- Dimulai dengan **object localization** sederhana, untuk mendeteksi objek utama dalam gambar menggunakan **bounding box**.\n",
    "- Model deteksi objek ini nantinya akan diperluas untuk menemukan **semua objek** yang menarik dalam gambar.\n",
    "\n",
    "---\n",
    "\n",
    "## **Dataset**\n",
    "- Dataset dasar yang digunakan adalah **MNIST**, terdiri dari:  \n",
    "  - 60.000 digit tulisan tangan.  \n",
    "  - 10 kelas (0-9).  \n",
    "  - Gambar berukuran **28x28 piksel**.  \n",
    "\n",
    "Namun, dataset ini **kurang cocok** untuk deteksi objek karena:  \n",
    "- Objek selalu berada di tengah.  \n",
    "- **Bounding box** untuk semua gambar pelatihan akan sama, sehingga model tidak dapat belajar mengenali objek di lokasi acak.\n",
    "\n",
    "### **Dataset yang Disintesis**\n",
    "Untuk mengatasi keterbatasan ini:\n",
    "1. Gambar akan diubah menjadi ukuran **75x75 piksel**.\n",
    "2. Digit akan ditempatkan secara **acak** dalam bingkai 75x75.\n",
    "3. **Bounding box** akan dibuat untuk setiap digit sebagai bagian dari label.\n",
    "\n",
    "Dataset ini akan memberikan dasar pelatihan untuk **object localization**.\n",
    "\n",
    "---\n",
    "\n",
    "## **Arsitektur Model**\n",
    "### **Karakteristik Arsitektur**\n",
    "- **Dua output jaringan**:  \n",
    "  1. **Klasifikasi**: Untuk mengenali digit dalam gambar (0-9).  \n",
    "  2. **Bounding box**: Untuk memprediksi lokasi dan dimensi bounding box (melalui regresi).  \n",
    "\n",
    "- **Input layer**: Gambar ukuran **75x75 piksel**.  \n",
    "- **Convolutional layers**: Menggunakan konvolusi dan pooling untuk menentukan isi gambar (mirip dengan classifier MNIST).  \n",
    "- **Dense layers**:  \n",
    "  - Output pertama: **Softmax activation** untuk 10 kelas digit.  \n",
    "  - Output kedua: **Regresi** untuk memprediksi bounding box (numerik).  \n",
    "\n",
    "---\n",
    "\n",
    "## **API Fungsional**\n",
    "Karena adanya **multiple outputs**, kita akan menggunakan **Functional API**.  \n",
    "- Output klasifikasi tetap sama:  \n",
    "  - 10 neuron dengan **Softmax activation**.  \n",
    "- Output bounding box diprediksi menggunakan regresi, berdasarkan label yang menyertakan informasi **bounding box**."
   ]
  },
  {
   "cell_type": "markdown",
   "metadata": {},
   "source": []
  }
 ],
 "metadata": {
  "language_info": {
   "name": "python"
  }
 },
 "nbformat": 4,
 "nbformat_minor": 2
}
