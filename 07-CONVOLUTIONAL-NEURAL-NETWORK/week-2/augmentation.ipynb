{
 "cells": [
  {
   "cell_type": "markdown",
   "metadata": {},
   "source": [
    "## Mempelajari Augmentasi Data Gambar\n",
    "\n",
    "Minggu lalu, Anda sudah menggunakan kode untuk memuat gambar dari direktori. Sekarang, Anda akan belajar cara mengkodekan augmentasi yang diperkenalkan di video sebelumnya. Kode untuk memuat data tetap sama. Anda pertama-tama memuat data, kemudian mengacaknya dan mengatur ukuran buffer.\n",
    "\n",
    "### Cara Augmentasi Data\n",
    "\n",
    "Cara paling sederhana untuk melakukan augmentasi data adalah dengan membuat model sekuensial dan menempatkan semua transformasi ke dalamnya secara berurutan. Dalam alur intensif, transformasi didefinisikan sebagai lapisan, dan ini membuatnya sangat mudah. \n",
    "\n",
    "Contohnya, jika Anda mempertimbangkan gambar di sebelah kanan, model Anda mungkin tidak dapat mengklasifikasikannya dengan benar karena data pelatihan Anda tidak memiliki gambar seorang wanita dengan tangan kiri diangkat. Namun, ada gambar di sebelah kiri di mana lengan kanannya diangkat. Jika gambar tersebut dibalik secara horizontal, maka strukturnya menjadi lebih mirip dengan gambar di sebelah kanan, dan model Anda mungkin tidak terlalu terfokus pada pengangkat lengan kanan.\n",
    "\n",
    "### Memflip Gambar\n",
    "\n",
    "Untuk mencapai pembalikan horizontal, Anda hanya perlu membuat lapisan flip acak dan mengatur parameter pertama menjadi horizontal. Lapisan ini kemudian akan secara acak membalik beberapa gambar.\n",
    "\n",
    "### Memputar Gambar\n",
    "\n",
    "Jika Anda ingat contoh telinga kucing dari video sebelumnya, ini juga sederhana untuk dicapai. Yang perlu Anda lakukan adalah membuat lapisan rotasi acak. Parameter pertama, yang diatur ke 0.2 di sini, adalah fraksi dari 2 Pi, yang membatasi jumlah maksimum rotasi yang ingin kita lakukan.\n",
    "\n",
    "### Translasi Gambar\n",
    "\n",
    "Metode augmentasi data yang sangat umum digunakan adalah translasi, yang memindahkan pusat gambar dengan jumlah acak. Dua parameter pertama adalah fraksi dari ukuran gambar untuk seberapa jauh gambar akan diterjemahkan secara horizontal dan vertikal.\n",
    "\n",
    "### Zoom Gambar\n",
    "\n",
    "Terakhir, pertimbangkan gambar di sebelah kanan. Itu jelas seorang wanita yang menghadap ke kanan. Gambar dari dataset kuda dan manusia di sebelah kiri sangat mirip, tetapi zoom out untuk melihat seluruh orang. Jika Anda melakukan zoom in pada gambar pelatihan, Anda bisa mendapatkan gambar yang sangat mirip dengan yang ada di sebelah kanan. Dengan demikian, Anda bisa mendapatkan contoh yang lebih umum seperti ini. Anda dapat melakukan zoom dengan lapisan zoom acak. Angka 0.2 adalah proporsi relatif dari gambar yang akan Anda zoom in. Dalam hal ini, zoom akan menjadi jumlah acak hingga 20% dari ukuran gambar.\n",
    "\n",
    "### Mengatur Parameter Fill Mode\n",
    "\n",
    "Terakhir, mari kita lihat parameter fill mode. Parameter ini memberi tahu model bagaimana mengisi piksel yang mungkin hilang akibat operasi. Misalnya, ketika Anda memindahkan gambar ke kanan, mungkin akan ada sesuatu yang mengisi piksel di sisi kiri. Saya akan tetap menggunakan opsi terdekat di sini, yang menggunakan tetangga piksel tersebut untuk mencoba menjaga keseragaman.\n",
    "\n",
    "### Menggabungkan dengan Model\n",
    "\n",
    "Sekarang Anda hanya perlu menggabungkan ini dengan model. Anda mulai dengan mendefinisikan model, dan apapun itu, misalnya, ini sama dengan yang Anda gunakan di minggu sebelumnya. Kemudian Anda dapat menggabungkan model augmentasi data dengan model Anda dalam urutan, dan Anda dapat mengompilasinya seperti yang Anda lakukan dengan model lainnya.\n",
    "\n",
    "### Kesimpulan\n",
    "\n",
    "Itulah konsep dari augmentasi gambar. Sekarang mari kita lihat kucing versus anjing yang dilatih dengan dan tanpa augmentasi, sehingga kita dapat melihat dampak yang ditimbulkan.\n"
   ]
  },
  {
   "cell_type": "markdown",
   "metadata": {},
   "source": [
    "## Augmentasi Gambar dan Overfitting\n",
    "\n",
    "Tentu saja, augmentasi gambar bukanlah solusi ajaib untuk mengatasi overfitting. Hal ini sangat membantu jika Anda memiliki keragaman gambar yang besar. \n",
    "\n",
    "### Studi Kasus Dataset\n",
    "\n",
    "Sebagai contoh, jika kita melihat dataset **horses_or_humans** dan melatihnya untuk jumlah epoch yang sama, kita dapat melihat perilakunya. Saya telah mempercepat prosesnya sedikit untuk menghemat waktu Anda. \n",
    "\n",
    "### Akurasi Validasi\n",
    "\n",
    "Pada awalnya, akurasi validasi tampak stabil, tetapi kemudian Anda akan melihatnya bervariasi dengan liar. Apa yang terjadi di sini adalah bahwa meskipun ada augmentasi gambar, keragaman gambar masih terlalu sedikit, dan set validasi juga mungkin dirancang dengan buruk. \n",
    "\n",
    "### Pengamatan Data\n",
    "\n",
    "Jika Anda memeriksa data tersebut sendiri, Anda akan melihat bahwa hal ini memang terjadi. Misalnya, manusia hampir selalu berdiri dan berada di pusat gambar baik dalam set pelatihan maupun set validasi. Oleh karena itu, augmentasi gambar akan mengubahnya menjadi sesuatu yang tidak mirip dengan yang ada di set validasi.\n",
    "\n",
    "### Pelajaran yang Dapat Dipelajari\n",
    "\n",
    "Dari sini, kita dapat belajar bahwa augmentasi gambar memperkenalkan elemen acak ke dalam gambar pelatihan. Namun, jika set validasi tidak memiliki tingkat keacakan yang sama, maka hasilnya dapat berfluktuasi seperti ini. \n",
    "\n",
    "### Kesimpulan\n",
    "\n",
    "Ingatlah bahwa Anda tidak hanya membutuhkan set gambar yang luas untuk pelatihan, tetapi juga untuk pengujian, atau augmentasi gambar tidak akan banyak membantu Anda.\n"
   ]
  }
 ],
 "metadata": {
  "language_info": {
   "name": "python"
  }
 },
 "nbformat": 4,
 "nbformat_minor": 2
}
