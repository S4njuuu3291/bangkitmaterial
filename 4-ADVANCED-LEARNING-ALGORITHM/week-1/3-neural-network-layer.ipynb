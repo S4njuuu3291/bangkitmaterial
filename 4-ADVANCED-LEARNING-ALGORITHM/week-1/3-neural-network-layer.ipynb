{
 "cells": [
  {
   "cell_type": "markdown",
   "metadata": {},
   "source": [
    "# Dasar-Dasar Jaringan Saraf: Memahami Lapisan Neuron\n",
    "\n",
    "Blok bangunan dasar dari sebagian besar jaringan saraf modern adalah lapisan neuron. Dalam video ini, Anda akan belajar bagaimana membangun sebuah lapisan neuron. Setelah Anda memahami ini, Anda akan dapat menggabungkan blok bangunan tersebut untuk membentuk jaringan saraf yang lebih besar. Mari kita lihat bagaimana lapisan neuron bekerja.\n",
    "\n",
    "## Contoh Penggunaan Lapisan Neuron\n",
    "\n",
    "Berikut adalah contoh dari prediksi permintaan, di mana kita memiliki empat fitur input yang dihubungkan ke lapisan tersembunyi yang terdiri dari tiga neuron, yang kemudian mengirimkan outputnya ke lapisan output dengan hanya satu neuron. Mari kita perbesar lapisan tersembunyi untuk melihat komputasinya.\n",
    "\n",
    "### Komputasi Lapisan Tersembunyi\n",
    "\n",
    "Lapisan tersembunyi ini menerima empat angka sebagai input, dan keempat angka ini adalah input untuk masing-masing dari tiga neuron. Setiap neuron ini menerapkan sedikit unit regresi logistik atau fungsi regresi logistik. \n",
    "\n",
    "\n",
    "#### Neuron Pertama\n",
    "\n",
    "Mari kita ambil neuron pertama. Neuron ini memiliki dua parameter, $w$ dan $b$. Untuk menunjukkan bahwa ini adalah unit tersembunyi pertama, saya akan memberi subscript $w_1$ dan $b_1$. Output yang dihasilkan adalah nilai aktivasi $a$, yang merupakan $g(w_1 \\cdot x + b_1)$, di mana $z = w_1 \\cdot x + b_1$ adalah nilai yang sudah Anda pelajari dalam regresi logistik sebelumnya, dan $g(z)$ adalah fungsi logistik yang familiar, yaitu $\\frac{1}{1 + e^{-z}}$. \n",
    "\n",
    "Mungkin outputnya adalah angka 0.3, yang berarti nilai aktivasi $a$ dari neuron pertama adalah 0.3. Untuk menunjukkan bahwa ini adalah neuron pertama, saya juga akan menambahkan subscript $a_1$ di sini, sehingga $a_1$ bisa menjadi angka seperti 0.3. Ini menunjukkan ada kemungkinan 0.3 bahwa produk ini sangat terjangkau berdasarkan fitur input.\n",
    "\n",
    "#### Neuron Kedua\n",
    "\n",
    "Sekarang, mari kita lihat neuron kedua. Neuron kedua ini memiliki parameter $w_2$ dan $b_2$, yang merupakan parameter dari unit logistik kedua. Neuron ini menghitung $a_2 = g(w_2 \\cdot x + b_2)$ dan mungkin menghasilkan angka lain, katakanlah 0.7. Dalam contoh ini, ada kemungkinan 0.7 bahwa calon pembeli akan menyadari kaos ini.\n",
    "\n",
    "#### Neuron Ketiga\n",
    "\n",
    "Neuron ketiga memiliki parameter $w_3$ dan $b_3$. Ia menghitung nilai aktivasi $a_3 = g(w_3 \\cdot x + b_3)$, dan hasilnya mungkin 0.2. Dalam contoh ini, ketiga neuron ini menghasilkan output 0.3, 0.7, dan 0.2. Vektor tiga angka ini menjadi vektor nilai aktivasi $a$ yang kemudian diteruskan ke lapisan output dari jaringan saraf ini.\n",
    "\n",
    "<img src=\"img\\image-4.png\" alt=\"Contoh Deteksi Mobil\" style=\"display: block; margin-left: auto; margin-right: auto; width: 800px;\">\n",
    "\n",
    "### Penamaan dan Notasi\n",
    "\n",
    "Ketika Anda membangun jaringan saraf dengan beberapa lapisan, akan berguna untuk memberi nomor yang berbeda pada lapisan-lapisan tersebut. Secara konvensional, lapisan ini disebut lapisan 1 dari jaringan saraf, dan lapisan ini disebut lapisan 2. Lapisan input juga kadang-kadang disebut lapisan 0. Saat ini, terdapat jaringan saraf yang dapat memiliki puluhan atau bahkan ratusan lapisan.\n",
    "\n",
    "Untuk memperkenalkan notasi yang membantu kita membedakan antara lapisan yang berbeda, saya akan menggunakan superscript dalam tanda kurung untuk memberi indeks pada lapisan yang berbeda. Khususnya, superscript dalam tanda kurung $ [1] $ akan digunakan untuk menunjukkan output dari lapisan 1. Parameter $w_1$ dan $b_1$ adalah parameter dari unit pertama di lapisan 1, dan saya juga akan menambahkan superscript $ [1] $ di sini. Parameter $w_2$ dan $b_2$ adalah parameter dari unit kedua di lapisan 1, dan saya akan menuliskannya sebagai $w^{[1]}$.\n",
    "\n",
    "### Komputasi Lapisan 2\n",
    "\n",
    "Sekarang, mari kita perbesar komputasi lapisan 2 dari jaringan saraf ini, yang juga merupakan lapisan output. Input untuk lapisan 2 adalah output dari lapisan 1, jadi $a_1$ adalah vektor $0.3, 0.7, 0.2$ yang baru saja kita hitung.\n",
    "\n",
    "Karena lapisan output hanya memiliki satu neuron, ia hanya menghitung $a_2$ yang merupakan output dari neuron pertama dan satu-satunya, yaitu $g(w_1 \\cdot a^{[1]} + b_1)$. Di sini, $z$ adalah kuantitas yang Anda kenal dan $g$ adalah fungsi sigmoid yang diterapkan. Jika hasilnya adalah angka, katakanlah 0.84, maka ini menjadi output dari jaringan saraf.\n",
    "<img src=\"img\\image-5.png\" alt=\"Contoh Deteksi Mobil\" style=\"display: block; margin-left: auto; margin-right: auto; width: 800px;\">\n",
    "\n",
    "### Prediksi Akhir\n",
    "\n",
    "Dengan mengikuti konvensi notasi sebelumnya, kita akan menggunakan superscript $ [2] $ untuk menunjukkan kuantitas yang terkait dengan lapisan 2. Jadi, $a^{[2]}$ adalah output dari lapisan ini, dan saya juga akan menyalinnya di sini sebagai output akhir dari jaringan saraf.\n",
    "\n",
    "Setelah jaringan saraf menghitung $a_2$, ada satu langkah opsional terakhir yang bisa Anda pilih untuk diterapkan, yaitu jika Anda ingin membuat prediksi biner, apakah ini adalah penjual teratas? Anda bisa mengambil angka $a^{[2]}_1$ yaitu 0.84, dan mengatur threshold di 0.5. Jika lebih besar dari 0.5, Anda dapat memprediksi $\\hat{y} = 1$, dan jika kurang dari 0.5, maka prediksi $\\hat{y} = 0$. Kami juga melihat thresholding ini ketika Anda belajar tentang regresi logistik di kursus pertama spesialisasi.\n",
    "\n",
    "<img src=\"img\\image-6.png\" alt=\"Contoh Deteksi Mobil\" style=\"display: block; margin-left: auto; margin-right: auto; width: 800px;\">\n",
    "\n",
    "### Kesimpulan\n",
    "\n",
    "Itulah cara kerja jaringan saraf. Setiap lapisan menerima vektor angka dan menerapkan sejumlah unit regresi logistik padanya, kemudian menghitung vektor angka lain yang diteruskan dari lapisan ke lapisan hingga Anda mencapai komputasi lapisan output akhir, yaitu prediksi dari jaringan saraf. Anda kemudian dapat memilih untuk menggunakan threshold di 0.5 atau tidak untuk menghasilkan prediksi akhir.\n",
    "\n",
    "Dengan demikian, mari kita gunakan dasar yang telah kita bangun ini untuk melihat beberapa model jaringan saraf yang lebih kompleks dan lebih besar. Saya harap dengan melihat lebih banyak contoh, konsep lapisan dan bagaimana menggabungkannya untuk membangun jaringan saraf akan menjadi semakin jelas. Jadi, mari kita lanjutkan ke video berikutnya.\n"
   ]
  },
  {
   "cell_type": "markdown",
   "metadata": {},
   "source": []
  }
 ],
 "metadata": {
  "language_info": {
   "name": "python"
  }
 },
 "nbformat": 4,
 "nbformat_minor": 2
}
