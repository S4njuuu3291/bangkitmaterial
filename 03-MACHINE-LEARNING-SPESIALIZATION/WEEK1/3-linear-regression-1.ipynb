{
 "cells": [
  {
   "cell_type": "markdown",
   "metadata": {},
   "source": [
    "# Linear Regression dalam Pembelajaran Terawasi\n",
    "\n",
    "### Pendahuluan\n",
    "Linear Regression adalah teknik dalam **pembelajaran terawasi** (supervised learning) yang digunakan untuk memprediksi nilai numerik yang kontinu berdasarkan hubungan linier antara variabel independen (fitur) dan variabel dependen (target). Misalnya, dalam memprediksi harga rumah berdasarkan ukuran rumah (dalam kaki persegi).\n",
    "\n",
    "---\n",
    "\n",
    "### Langkah 1: Memahami Masalah\n",
    "\n",
    "Misalkan Anda ingin memprediksi harga rumah berdasarkan ukuran rumah dalam kaki persegi. Anda memiliki data yang mencakup ukuran rumah dan harga rumah, dan tujuannya adalah untuk membangun model yang dapat memprediksi harga rumah baru berdasarkan ukuran yang diberikan.\n",
    "\n",
    "---\n",
    "\n",
    "### Langkah 2: Visualisasi Data\n",
    "\n",
    "Untuk memahami hubungan antara ukuran rumah dan harga rumah, langkah pertama adalah memvisualisasikan data. Grafik scatter plot dapat digunakan untuk menunjukkan hubungan antara ukuran rumah (variabel independen) dan harga rumah (variabel dependen). Ini membantu kita memahami pola atau tren yang ada.\n",
    "\n",
    "---\n",
    "\n",
    "### Langkah 3: Membangun Model Linear Regression\n",
    "\n",
    "**Linear regression** adalah algoritma yang digunakan untuk menemukan hubungan linier antara variabel input dan output. Dalam hal ini, kita mencoba menemukan garis lurus yang paling cocok (best-fit line) yang dapat memprediksi harga rumah berdasarkan ukuran rumah.\n",
    "\n",
    "Garis ini dapat digambarkan sebagai persamaan:\n",
    "\n",
    "`y = mx + b`\n",
    "\n",
    "di mana:\n",
    "- `y` adalah harga rumah (output)\n",
    "- `x` adalah ukuran rumah (input)\n",
    "- `m` adalah kemiringan garis (slope)\n",
    "- `b` adalah intercept atau titik potong garis pada sumbu y\n",
    "\n",
    "Model ini dilatih dengan data yang ada dan digunakan untuk memprediksi harga rumah baru.\n",
    "\n",
    "---\n",
    "\n",
    "### Langkah 4: Evaluasi Model\n",
    "\n",
    "Setelah model dibangun, langkah berikutnya adalah mengukur seberapa baik model tersebut memprediksi harga rumah. Salah satu metrik evaluasi yang umum digunakan dalam linear regression adalah **Mean Squared Error (MSE)** yang mengukur rata-rata selisih antara nilai yang diprediksi dan nilai sebenarnya.\n",
    "\n",
    "---\n",
    "\n",
    "### Langkah 5: Penggunaan Model\n",
    "\n",
    "Setelah model terlatih, Anda dapat menggunakannya untuk memprediksi harga rumah baru. Misalnya, jika ukuran rumah yang ingin diprediksi adalah 1250 kaki persegi, model linear regression yang telah dilatih dapat menghitung harga rumah berdasarkan garis best-fit yang telah ditemukan sebelumnya.\n",
    "\n",
    "---\n",
    "\n",
    "### Ringkasan\n",
    "\n",
    "- **Supervised learning**: Pembelajaran model menggunakan data yang sudah diketahui hasilnya.\n",
    "- **Linear Regression**: Metode yang digunakan untuk memprediksi nilai kontinu berdasarkan hubungan linier antara input dan output.\n",
    "- **Evaluasi model**: Mengukur performa model menggunakan metrik seperti **Mean Squared Error (MSE)**.\n",
    "- **Prediksi harga rumah**: Model dapat digunakan untuk memprediksi harga rumah berdasarkan ukuran rumah yang baru.\n",
    "\n",
    "---\n"
   ]
  },
  {
   "cell_type": "markdown",
   "metadata": {},
   "source": []
  },
  {
   "cell_type": "markdown",
   "metadata": {},
   "source": []
  }
 ],
 "metadata": {
  "kernelspec": {
   "display_name": "base",
   "language": "python",
   "name": "python3"
  },
  "language_info": {
   "name": "python",
   "version": "3.12.4"
  }
 },
 "nbformat": 4,
 "nbformat_minor": 2
}
