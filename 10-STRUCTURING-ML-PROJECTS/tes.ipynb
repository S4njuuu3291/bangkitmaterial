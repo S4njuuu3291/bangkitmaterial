{
 "cells": [
  {
   "cell_type": "markdown",
   "metadata": {},
   "source": [
    "## 5.1 Pentingnya Manajemen Biaya Proyek\n",
    "\n",
    "- **Proyek IT** memiliki catatan yang buruk dalam mencapai tujuan anggaran. (Sebuah studi tahun 2011 yang diterbitkan di Harvard Business Review meneliti inisiatif perubahan IT dalam hampir 1.500 proyek dan melaporkan rata-rata pembengkakan biaya sebesar 27 persen).\n",
    "- **Pembengkakan biaya** adalah persentase tambahan atau jumlah dolar di mana biaya aktual melebihi estimasi.\n",
    "- Proyek-proyek tersebut mencakup berbagai sistem, mulai dari **Enterprise Resource Planning (ERP)** hingga **Management Information Systems (MIS)** dan **Customer Relationship Management (CRM)**. Sebagian besar proyek menghadapi biaya tinggi, dengan rata-rata biaya sebesar $167 juta; proyek terbesar berbiaya $33 miliar.\n",
    "\n",
    "> **HidayanM21 2**  \n",
    "> Temuan yang paling penting dalam studi ini adalah satu dari enam proyek yang diteliti mengandung **\"black swan\"**: sebuah kejadian berdampak tinggi yang langka dan tidak dapat diprediksi, tetapi tidak mustahil setelah dipertimbangkan. Proyek-proyek IT dengan **black swan** ini memiliki pembengkakan biaya rata-rata sebesar 200 persen dan pembengkakan jadwal hampir 70 persen.\n",
    "\n",
    "### Contoh\n",
    "\n",
    "- Program **modernisasi IT** National Health Service (NHS) di **Inggris Raya** disebut sebagai “bencana IT terbesar dalam sejarah” oleh seorang kolumnis di London. Program 10 tahun yang dimulai pada tahun 2002 ini dibuat untuk menyediakan sistem **rekam medis elektronik**, pemesanan janji temu, dan sistem obat resep di Inggris dan Wales.\n",
    "- Pemerintah **Labour** Inggris memperkirakan bahwa program ini akan menghabiskan lebih dari $55 miliar, dengan pembengkakan biaya sebesar $26 miliar. Program ini dihantui oleh masalah teknis karena ketidakcocokan sistem, penolakan dari dokter yang mengatakan mereka tidak dilibatkan dengan memadai dalam fitur sistem, serta perselisihan di antara kontraktor mengenai siapa yang bertanggung jawab atas apa.\n",
    "  \n",
    "> **HidayanM21 4**\n"
   ]
  },
  {
   "cell_type": "markdown",
   "metadata": {},
   "source": [
    "## Apa Itu Biaya?\n",
    "\n",
    "- Sebuah buku teks akuntansi biaya yang populer menyatakan, “Akuntan biasanya mendefinisikan biaya sebagai sumber daya yang dikorbankan atau dilepaskan untuk mencapai tujuan tertentu.”\n",
    "- Kamus Webster mendefinisikan biaya sebagai “sesuatu yang diberikan sebagai pertukaran.” Biaya sering diukur dalam jumlah moneter, seperti dolar, yang harus dibayar untuk memperoleh barang dan jasa.\n",
    "\n",
    "> **HidayanM21 6**\n",
    "\n",
    "- Banyak profesional IT, bagaimanapun, sering merespons informasi tentang pembengkakan biaya dengan senyum sinis. Mereka tahu bahwa banyak estimasi biaya awal untuk proyek IT rendah atau didasarkan pada persyaratan proyek yang tidak jelas, jadi pembengkakan biaya memang terjadi.\n",
    "- Tidak menekankan pentingnya estimasi biaya proyek yang realistis sejak awal hanyalah salah satu bagian dari masalah ini.\n",
    "- Selain itu, banyak profesional IT berpikir bahwa mempersiapkan estimasi biaya adalah pekerjaan akuntan. Sebaliknya, mempersiapkan estimasi biaya yang baik adalah keterampilan yang menuntut dan penting yang perlu dimiliki oleh banyak profesional, termasuk manajer proyek.\n",
    "\n",
    "> **HidayanM21 7**\n",
    "\n",
    "- Alasan lain yang dianggap menjadi penyebab pembengkakan biaya adalah bahwa banyak proyek IT melibatkan teknologi baru atau proses bisnis baru. Setiap teknologi atau proses bisnis baru belum teruji dan memiliki risiko yang melekat. Oleh karena itu, biaya meningkat dan kegagalan diharapkan, bukan? Salah. Menggunakan manajemen biaya proyek yang baik dapat mengubah persepsi keliru ini.\n"
   ]
  },
  {
   "cell_type": "markdown",
   "metadata": {},
   "source": [
    "## Apa Itu Manajemen Biaya Proyek?\n",
    "\n",
    "Tugas manajer proyek adalah untuk memuaskan pemangku kepentingan proyek sambil terus berupaya untuk mengurangi dan mengendalikan biaya. Ada empat proses dalam manajemen biaya proyek:\n",
    "\n",
    "1) **Perencanaan manajemen biaya** melibatkan penentuan kebijakan, prosedur, dan dokumentasi yang akan digunakan untuk merencanakan, melaksanakan, dan mengendalikan biaya proyek. Output utama dari proses ini adalah **rencana manajemen biaya**.\n",
    "\n",
    "2) **Estimasi biaya** melibatkan pengembangan perkiraan atau estimasi biaya dari sumber daya yang diperlukan untuk menyelesaikan proyek. Output utama dari proses estimasi biaya adalah **perkiraan biaya aktivitas**, **dasar estimasi**, dan **pembaruan dokumen proyek**.\n",
    "\n",
    "3) **Menentukan anggaran** melibatkan pengalokasian estimasi biaya keseluruhan ke item pekerjaan individual untuk menetapkan dasar pengukuran kinerja. Output utama dari proses penganggaran biaya adalah **dasar biaya**, **persyaratan pendanaan proyek**, dan **pembaruan dokumen proyek**.\n",
    "\n",
    "4) **Mengendalikan biaya** melibatkan pengendalian perubahan terhadap anggaran proyek. Output utama dari proses pengendalian biaya adalah **informasi kinerja kerja**, **perkiraan biaya**, **permintaan perubahan**, **pembaruan rencana manajemen proyek**, dan **pembaruan dokumen proyek**.\n"
   ]
  },
  {
   "cell_type": "markdown",
   "metadata": {},
   "source": [
    "### 5.2 Prinsip Dasar Manajemen Biaya\n",
    "\n",
    "Bagian ini menjelaskan topik umum seperti laba, biaya siklus hidup, analisis aliran kas, biaya dan manfaat yang dapat diukur dan tidak dapat diukur, biaya langsung, biaya tenggelam, teori kurva pembelajaran, dan cadangan.\n",
    "\n",
    "#### Laba\n",
    "- **Laba** adalah pendapatan dikurangi pengeluaran. Untuk meningkatkan laba, perusahaan dapat meningkatkan pendapatan, mengurangi pengeluaran, atau mencoba melakukan keduanya.\n",
    "- **Margin laba** adalah rasio antara laba dan pendapatan. Misalnya, jika pendapatan sebesar $100 menghasilkan laba $2, margin laba adalah 2%. Jika perusahaan mengalami kerugian $2 untuk setiap $100 pendapatan, margin laba adalah −2%.\n",
    "\n",
    "#### Biaya Siklus Hidup\n",
    "- **Biaya siklus hidup** memberikan gambaran besar tentang biaya proyek sepanjang siklus hidupnya. Ini membantu Anda mengembangkan proyeksi biaya dan manfaat finansial yang akurat. Biaya siklus hidup mempertimbangkan total biaya kepemilikan, atau biaya pengembangan plus biaya dukungan untuk sebuah proyek.\n",
    "  \n",
    "  Contohnya, sebuah perusahaan mungkin menyelesaikan proyek untuk mengembangkan dan mengimplementasikan sistem layanan pelanggan baru dalam 1 atau 2 tahun, tetapi sistem baru tersebut bisa bertahan hingga 10 tahun. Manajer proyek, dengan bantuan ahli keuangan dalam organisasi mereka, harus membuat perkiraan biaya dan manfaat proyek untuk seluruh siklus hidupnya (10 tahun dalam contoh ini).\n",
    "\n",
    "#### Analisis Aliran Kas\n",
    "- **Analisis aliran kas** adalah metode untuk menentukan estimasi biaya dan manfaat tahunan untuk sebuah proyek serta aliran kas tahunan yang dihasilkan. Manajer proyek harus melakukan analisis aliran kas untuk menentukan nilai sekarang bersih (Net Present Value).\n",
    "\n",
    "#### Biaya dan Manfaat yang Dapat Diukur dan Tidak Dapat Diukur\n",
    "- **Biaya atau manfaat yang dapat diukur** mudah diukur dalam bentuk uang. Sebagai contoh, jika proyek Surveyor Pro yang dijelaskan dalam studi kasus awal mencakup studi kelayakan awal.\n",
    "- **Biaya atau manfaat yang tidak dapat diukur** sulit diukur dalam bentuk uang. Sebagai contoh, jika Juan dan beberapa orang lainnya menghabiskan waktu pribadi mereka menggunakan komputer, buku, dan sumber daya lain yang dimiliki pemerintah untuk meneliti area terkait studi. Meskipun jam kerja dan material milik pemerintah tidak dibebankan ke proyek, mereka dapat dianggap sebagai biaya tak terukur. Manfaat tak terukur sering kali mencakup hal-hal seperti goodwill, prestise, dan peningkatan produktivitas umum yang sulit diterjemahkan ke dalam bentuk uang. Karena biaya dan manfaat ini sulit untuk dihitung, mereka sering kali lebih sulit untuk dibenarkan.\n",
    "\n",
    "#### Biaya Langsung dan Biaya Tidak Langsung\n",
    "- **Biaya langsung** adalah biaya yang dapat langsung dikaitkan dengan pembuatan produk dan layanan proyek. Anda dapat mengatribusikan biaya langsung ke proyek tertentu. Misalnya, biaya langsung mencakup gaji orang yang bekerja penuh waktu pada proyek dan biaya perangkat keras serta perangkat lunak yang dibeli khusus untuk proyek tersebut. Manajer proyek harus fokus pada biaya langsung karena biaya ini dapat dikendalikan.\n",
    "- **Biaya tidak langsung** tidak langsung terkait dengan produk atau layanan proyek, tetapi terkait dengan pekerjaan yang dilakukan pada proyek. Misalnya, biaya tidak langsung termasuk biaya listrik, tisu kertas, dan kebutuhan lainnya di gedung besar yang menampung 1.000 karyawan yang bekerja pada banyak proyek. Biaya tidak langsung dialokasikan ke proyek, dan manajer proyek memiliki kontrol yang sangat sedikit atas biaya ini.\n",
    "\n",
    "#### Biaya Tenggelam\n",
    "- **Biaya tenggelam** adalah uang yang telah dibelanjakan di masa lalu. Anggap saja sudah hilang, seperti kapal yang tenggelam yang tidak akan pernah bisa diangkat lagi. Ketika memutuskan proyek mana yang akan diinvestasikan atau dilanjutkan, Anda seharusnya tidak memasukkan biaya tenggelam.\n",
    "\n",
    "#### Teori Kurva Pembelajaran\n",
    "- **Teori kurva pembelajaran** menyatakan bahwa ketika banyak item diproduksi secara repetitif, biaya unit item tersebut akan menurun secara teratur seiring dengan semakin banyaknya unit yang diproduksi.\n",
    "\n",
    "#### Cadangan\n",
    "- **Cadangan** adalah jumlah uang yang dimasukkan dalam estimasi biaya untuk mengurangi risiko biaya dengan mengizinkan situasi masa depan yang sulit diprediksi.\n",
    "  - **Cadangan kontinjensi** memungkinkan untuk situasi masa depan yang dapat diprediksi sebagian (sering disebut sebagai *known unknowns*) dan dimasukkan dalam dasar biaya proyek. Misalnya, jika organisasi mengetahui bahwa tingkat pergantian karyawan IT-nya sebesar 20%, mereka harus menyertakan cadangan kontinjensi untuk biaya rekrutmen dan pelatihan karyawan IT.\n",
    "  - **Cadangan manajemen** memungkinkan untuk situasi masa depan yang tidak dapat diprediksi (sering disebut sebagai *unknown unknowns*). Misalnya, jika seorang manajer proyek sakit selama dua minggu atau pemasok penting bangkrut, cadangan manajemen dapat disisihkan untuk menutupi biaya yang timbul akibat situasi tersebut."
   ]
  },
  {
   "cell_type": "markdown",
   "metadata": {},
   "source": [
    "### 5.3 Perencanaan Manajemen Biaya\n",
    "\n",
    "Langkah pertama dalam manajemen biaya proyek adalah merencanakan bagaimana biaya akan dikelola sepanjang siklus hidup proyek. Secara umum, rencana manajemen biaya mencakup informasi berikut:\n",
    "\n",
    "- **Tingkat akurasi**: Estimasi biaya aktivitas biasanya memiliki pedoman pembulatan, seperti pembulatan ke $100 terdekat. Ada juga pedoman untuk jumlah dana cadangan yang harus dimasukkan, seperti 10 atau 20 persen.\n",
    "- **Satuan ukuran**: Setiap satuan yang digunakan dalam pengukuran biaya, seperti jam atau hari kerja, harus didefinisikan.\n",
    "  \n",
    "- **Tautan prosedur organisasi**: Banyak organisasi merujuk pada komponen struktur rincian kerja (WBS) yang digunakan untuk akuntansi biaya proyek sebagai **control account (CA)**. Setiap **control account** sering kali diberi kode unik yang digunakan dalam sistem akuntansi organisasi. Tim proyek harus memahami dan menggunakan kode ini dengan benar.\n",
    "\n",
    "- **Ambang batas kontrol**: Mirip dengan variasi jadwal, biaya sering kali memiliki jumlah variasi yang ditentukan yang diizinkan sebelum tindakan perlu diambil, seperti 10 persen dari biaya dasar.\n",
    "\n",
    "- **Aturan pengukuran kinerja**: Jika proyek menggunakan **EVM** (Earned Value Management), rencana manajemen biaya akan mendefinisikan aturan pengukuran, seperti seberapa sering biaya aktual akan dilacak dan seberapa detail pengukurannya.\n",
    "  \n",
    "- **Format pelaporan**: Bagian ini akan menjelaskan format dan frekuensi laporan biaya yang diperlukan untuk proyek.\n",
    "\n",
    "- **Deskripsi proses**: Rencana manajemen biaya juga akan menggambarkan bagaimana melaksanakan semua proses manajemen biaya.\n",
    "\n",
    "### 5.4 Estimasi Biaya\n",
    "\n",
    "Manajer proyek harus memperhatikan estimasi biaya jika mereka ingin menyelesaikan proyek sesuai dengan anggaran yang ditentukan.\n",
    "\n",
    "#### Jenis Estimasi Biaya\n",
    "\n",
    "- **Rough Order of Magnitude (ROM)**: Estimasi kasar yang memberikan perkiraan tentang berapa biaya proyek.\n",
    "  \n",
    "- **Estimasi anggaran**: Digunakan untuk mengalokasikan uang ke dalam anggaran organisasi.\n",
    "\n",
    "- **Estimasi definitif**: Memberikan estimasi yang akurat tentang biaya proyek."
   ]
  },
  {
   "cell_type": "markdown",
   "metadata": {},
   "source": [
    "### 5.6 Mengendalikan Biaya\n",
    "\n",
    "- Mengendalikan biaya proyek mencakup pemantauan kinerja biaya, memastikan bahwa hanya perubahan proyek yang sesuai yang dimasukkan dalam dasar biaya yang direvisi, dan memberitahukan pemangku kepentingan proyek tentang perubahan yang sah yang akan memengaruhi biaya.\n",
    "\n",
    "Beberapa alat dan teknik membantu dalam pengendalian biaya proyek:\n",
    "\n",
    "- **Earned Value Management (EVM)** adalah teknik pengukuran kinerja proyek yang mengintegrasikan data scope, waktu, dan biaya. Dengan dasar kinerja biaya, manajer proyek dan tim mereka dapat menentukan seberapa baik proyek memenuhi tujuan scope, waktu, dan biaya dengan memasukkan informasi aktual dan membandingkannya dengan baseline.\n",
    "\n",
    "- **Cost Variance (CV)** adalah nilai yang diperoleh dikurangi biaya aktual. Jika varians biaya merupakan angka negatif, itu berarti melaksanakan pekerjaan memerlukan biaya lebih banyak dari yang direncanakan. Jika varians biaya merupakan angka positif, itu berarti melaksanakan pekerjaan memerlukan biaya lebih sedikit dari yang direncanakan.\n",
    "\n",
    "- **Schedule Variance (SV)** adalah nilai yang diperoleh dikurangi nilai yang direncanakan. Varians jadwal negatif berarti pekerjaan membutuhkan lebih banyak waktu dari yang direncanakan, sementara varians jadwal positif berarti pekerjaan memakan waktu lebih sedikit dari yang direncanakan.\n",
    "\n",
    "- **Cost Performance Index (CPI)** adalah rasio antara nilai yang diperoleh dengan biaya aktual; ini dapat digunakan untuk memperkirakan biaya yang diproyeksikan untuk menyelesaikan proyek. Jika CPI sama dengan satu, atau 100 persen, maka biaya yang direncanakan dan aktual adalah sama—biayanya tepat sesuai anggaran. Jika CPI kurang dari satu atau kurang dari 100 persen, maka proyek lebih mahal dari anggaran. Jika CPI lebih besar dari satu atau lebih dari 100 persen, proyek lebih hemat biaya.\n",
    "\n",
    "- **Schedule Performance Index (SPI)** adalah rasio antara nilai yang diperoleh dengan nilai yang direncanakan; ini dapat digunakan untuk memperkirakan waktu yang diproyeksikan untuk menyelesaikan proyek. Mirip dengan cost performance index, SPI sebesar satu atau 100 persen berarti proyek sesuai jadwal. Jika SPI lebih besar dari satu atau 100 persen, maka proyek lebih cepat dari jadwal. Jika SPI kurang dari satu atau 100 persen, proyek tertunda.\n",
    "\n",
    "- **Cost Performance Index** dapat digunakan untuk menghitung **Estimate at Completion (EAC)**—perkiraan biaya untuk menyelesaikan proyek berdasarkan kinerja saat ini. Demikian pula, **Schedule Performance Index** dapat digunakan untuk menghitung **estimated time to complete** proyek. Anda juga dapat menghitung **To-Complete Performance Index (TCPI)**, ukuran kinerja biaya yang harus dicapai dengan sumber daya yang tersisa untuk mencapai tujuan tertentu."
   ]
  }
 ],
 "metadata": {
  "language_info": {
   "name": "python"
  }
 },
 "nbformat": 4,
 "nbformat_minor": 2
}
