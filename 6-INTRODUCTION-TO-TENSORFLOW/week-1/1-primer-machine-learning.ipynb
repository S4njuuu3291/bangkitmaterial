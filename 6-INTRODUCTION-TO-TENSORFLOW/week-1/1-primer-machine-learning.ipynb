{
 "cells": [
  {
   "cell_type": "markdown",
   "metadata": {},
   "source": [
    "# Memahami Pembelajaran Mesin dengan Istilah Sederhana\n",
    "\n",
    "Pembelajaran mesin seperti mengajari komputer untuk belajar dari contoh, alih-alih hanya mengikuti aturan yang ketat. Bayangkan Anda mencoba mengajarkan seorang anak bagaimana mengenali berbagai hewan. Alih-alih memberikan mereka daftar aturan (seperti \"anjing memiliki empat kaki dan menggonggong\"), Anda menunjukkan banyak gambar anjing, kucing, dan burung. Seiring waktu, mereka belajar untuk mengidentifikasi hewan-hewan ini berdasarkan apa yang mereka lihat.\n",
    "\n",
    "## Pemrograman Tradisional vs. Pembelajaran Mesin\n",
    "\n",
    "### Pemrograman Tradisional\n",
    "Pikirkan ini seperti mengikuti resep. Anda memiliki langkah-langkah tertentu yang harus diikuti, dan jika Anda melewatkan satu langkah, hidangan mungkin tidak akan berhasil. Misalnya, dalam sebuah permainan, Anda mungkin mengkode bahwa jika bola mengenai bata, bata tersebut akan menghilang.\n",
    "\n",
    "### Pembelajaran Mesin\n",
    "Sekarang, bayangkan alih-alih resep, Anda memberikan banyak contoh tentang bagaimana anjing terlihat. Mereka mulai memperhatikan pola, seperti bulu, ukuran, dan bentuk. Dalam pembelajaran mesin, Anda memberikan komputer banyak data (seperti gambar atau angka), dan komputer tersebut menemukan aturannya sendiri.\n",
    "\n",
    "## Contoh Dunia Nyata: Pengenalan Aktivitas\n",
    "\n",
    "Mari kita katakan Anda ingin membuat perangkat yang dapat memberi tahu apakah seseorang sedang berjalan, berlari, atau bersepeda. Alih-alih menulis aturan yang rumit untuk setiap aktivitas, Anda mengumpulkan banyak contoh orang yang melakukan aktivitas tersebut. Komputer melihat data (seperti kecepatan dan gerakan) dan belajar mengenali perbedaannya.\n",
    "\n",
    "## Kekuatan Jaringan Saraf\n",
    "\n",
    "Jaringan saraf adalah versi yang lebih canggih dari proses pembelajaran ini. Mereka membantu komputer menemukan pola yang lebih kompleks dalam data, membuatnya sangat baik dalam tugas-tugas seperti mengenali wajah dalam foto atau memahami kata-kata yang diucapkan.\n",
    "\n",
    "Dalam ringkasan, pembelajaran mesin adalah tentang mengajari komputer untuk belajar dari contoh, membuatnya lebih pintar dan lebih adaptif. Jika Anda memiliki pertanyaan atau ingin mendalami bagian mana pun dari ini, beri tahu saya! Anda sudah melakukan dengan baik!"
   ]
  }
 ],
 "metadata": {
  "language_info": {
   "name": "python"
  }
 },
 "nbformat": 4,
 "nbformat_minor": 2
}
