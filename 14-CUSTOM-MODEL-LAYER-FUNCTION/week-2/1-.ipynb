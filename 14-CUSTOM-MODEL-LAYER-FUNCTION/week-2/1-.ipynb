{
 "cells": [
  {
   "cell_type": "markdown",
   "metadata": {},
   "source": [
    "## Memahami Contrastive Loss pada Siamese Network\n",
    "\n",
    "Sekarang setelah kita memahami **Huber Loss**, mari kita kembali dan melihat **custom loss function** yang Anda gunakan minggu lalu saat membangun **Siamese Network** untuk *image similarity*. Kita sempat melewatkannya, jadi sekarang kita akan membahas bagaimana hal ini dibangun.\n",
    "\n",
    "### Arsitektur Siamese Network untuk Image Similarity\n",
    "\n",
    "Pada Siamese Network untuk *image similarity*, ada dua arsitektur jaringan yang serupa dengan *output* berbeda, yang dibandingkan menggunakan **Euclidean distance** untuk menghasilkan *output* keseluruhan. Untuk menghitung *loss* di sini, kita memerlukan jenis fungsi *loss* baru yang belum tersedia di *toolkit* kita. Kita menyebutnya **contrastive loss** karena kita ingin membandingkan dua gambar.\n",
    "\n",
    "### Konsep Contrastive Loss\n",
    "\n",
    "Idenya adalah bahwa jika dua gambar mirip, kita ingin menghasilkan **feature vector** untuk setiap gambar di mana vektor-vektor ini sangat mirip satu sama lain. Sebaliknya, jika gambar-gambar tersebut berbeda, kita ingin vektor fitur masing-masing juga berbeda. Dasar dari jenis *loss* ini adalah makalah berjudul *Dimensionality Reduction by Learning an Invariant Mapping*.\n",
    "\n",
    "Rumus dari **contrastive loss** adalah sebagai berikut:\n",
    "\n",
    "$$\n",
    "\\text{Contrastive Loss} = Y \\times D^2 + (1 - Y) \\times \\max(\\text{margin} - D, 0)^2\n",
    "$$\n",
    "\n",
    "Ada beberapa elemen yang perlu kita perhatikan dalam rumus ini, jadi mari kita lihat setiap bagian secara detail.\n",
    "\n",
    "- **Y** adalah tensor yang berisi detail tentang kesamaan gambar. Nilainya adalah 1 jika gambar-gambar tersebut mirip dan 0 jika tidak.\n",
    "- **D** adalah tensor yang mewakili **Euclidean distances** antara pasangan gambar.\n",
    "- **Margin** adalah konstanta yang kita gunakan untuk menerapkan jarak minimum antara gambar untuk dianggap mirip atau berbeda.\n",
    "\n",
    "### Analisis Rumus Contrastive Loss\n",
    "\n",
    "Mari kita lihat bagaimana rumus ini bekerja ketika kita memiliki nilai yang berbeda untuk **Y**.\n",
    "\n",
    "- Ketika **Y** = 1 (gambar mirip), kita hanya akan memiliki komponen $ D^2 $ dalam *loss*. Artinya, untuk gambar-gambar yang mirip, kita menginginkan nilai yang tinggi dari $ D^2 $, menunjukkan bahwa vektor fitur seharusnya dekat.\n",
    "  \n",
    "- Ketika **Y** = 0 (gambar tidak mirip), kita memiliki komponen **max** dari rumus. Ini adalah nilai maksimum antara $(\\text{margin} - D)$ atau 0, yang kemudian dikuadratkan. Nilai ini seharusnya lebih kecil daripada $ D^2 $, menunjukkan bahwa vektor fitur untuk gambar yang tidak mirip harus berada dalam jarak tertentu yang ditetapkan oleh **margin**.\n",
    "\n",
    "Anda bisa menganggap **Y** dan **1 - Y** dalam fungsi *loss* ini sebagai *weights* yang memungkinkan salah satu dari dua komponen utama ($ D^2 $ atau *max*) untuk mendominasi nilai *loss* keseluruhan.\n",
    "\n",
    "- Ketika **Y** mendekati 1, bobotnya lebih berat pada komponen $ D^2 $, sehingga dominan dalam perhitungan *loss*.\n",
    "- Ketika **Y** mendekati 0, bobotnya lebih besar pada komponen *max*, sehingga *max* menjadi lebih dominan.\n",
    "\n",
    "### Adaptasi pada Parameter TensorFlow\n",
    "\n",
    "Dalam konteks TensorFlow, ketika kita ingin menuliskan ulang fungsi ini, **Y** dalam rumus asli menjadi **Y true** dan **D** menjadi **Y pred**. Dengan ini, kita memiliki dua nilai yang diperlukan untuk implementasi fungsi ini.\n",
    "\n",
    "Setelah mengeksplorasi rumus **contrastive loss**, kita sekarang memiliki pemahaman yang cukup untuk melanjutkan ke implementasi. Silakan lanjut ke video berikutnya untuk mulai menerapkannya."
   ]
  },
  {
   "cell_type": "markdown",
   "metadata": {},
   "source": []
  }
 ],
 "metadata": {
  "language_info": {
   "name": "python"
  }
 },
 "nbformat": 4,
 "nbformat_minor": 2
}
