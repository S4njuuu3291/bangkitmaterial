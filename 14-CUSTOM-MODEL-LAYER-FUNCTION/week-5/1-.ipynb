{
 "cells": [
  {
   "cell_type": "markdown",
   "metadata": {},
   "source": [
    "# Pengantar Callbacks di TensorFlow\n",
    "\n",
    "Callbacks di TensorFlow adalah alat yang memungkinkan kontrol dan pemantauan proses pelatihan model. Ada dua jenis utama callbacks:\n",
    "\n",
    "1. **Built-in Callbacks**: Fungsi bawaan untuk tugas-tugas umum, seperti menyimpan checkpoint dan menghentikan pelatihan lebih awal.\n",
    "2. **Custom Callbacks**: Fungsi khusus yang dapat Anda buat dengan melakukan subclass pada `tf.keras.callbacks.Callback` untuk membuat fungsionalitas pelatihan yang lebih spesifik.\n",
    "\n",
    "## Struktur Kelas Callback\n",
    "\n",
    "Untuk membuat custom callback, definisikan kelas yang merupakan subclass dari `tf.keras.callbacks.Callback` dan override metode tertentu:\n",
    "- `on_epoch_begin`: Dipanggil di awal setiap epoch.\n",
    "- `on_epoch_end`: Dipanggil di akhir setiap epoch.\n",
    "- `on_predict_begin` dan `on_predict_end`: Dipanggil di awal dan akhir proses prediksi."
   ]
  },
  {
   "cell_type": "markdown",
   "metadata": {},
   "source": []
  }
 ],
 "metadata": {
  "language_info": {
   "name": "python"
  }
 },
 "nbformat": 4,
 "nbformat_minor": 2
}
