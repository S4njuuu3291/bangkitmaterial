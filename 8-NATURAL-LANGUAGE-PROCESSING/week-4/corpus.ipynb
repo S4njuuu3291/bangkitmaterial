{
 "cells": [
  {
   "cell_type": "markdown",
   "metadata": {},
   "source": [
    "### Apa Itu Corpus?\n",
    "\n",
    "Dalam **Natural Language Processing (NLP)**, **corpus** (jamak: *corpora*) adalah kumpulan teks yang terstruktur dan digunakan sebagai data untuk berbagai tugas pemrosesan bahasa alami. Corpus dapat berbentuk:\n",
    "\n",
    "- **Teks tertulis**: Misalnya, artikel berita, buku, media sosial, atau dokumen akademik.\n",
    "- **Teks lisan yang ditranskripsi**: Misalnya, transkripsi wawancara, pidato, atau percakapan.\n",
    "\n",
    "Corpus digunakan sebagai data pelatihan dalam tugas-tugas NLP, seperti:\n",
    "- Analisis sentimen\n",
    "- Pengenalan entitas bernama (Named Entity Recognition)\n",
    "- Terjemahan mesin\n",
    "- Penggolongan teks\n",
    "\n",
    "### Contoh Corpus Terkenal dalam NLP\n",
    "Beberapa contoh corpus terkenal yang sering digunakan dalam NLP antara lain:\n",
    "1. **Brown Corpus**: Salah satu corpus bahasa Inggris pertama yang berisi berbagai genre teks.\n",
    "2. **WordNet**: Basis data semantik bahasa Inggris yang mengelompokkan kata-kata berdasarkan sinonim, antonim, dan hubungan lainnya.\n",
    "3. **COCO (Common Objects in Context)**: Kumpulan data teks yang mencakup anotasi gambar yang bisa digunakan dalam NLP dan computer vision.\n",
    "\n",
    "### Contoh Kode Python untuk Menggunakan Corpus\n",
    "\n",
    "Menggunakan `nltk` untuk memuat *corpus*:\n",
    "\n",
    "```python\n",
    "import nltk\n",
    "from nltk.corpus import brown\n",
    "\n",
    "# Memuat kategori korpus Brown\n",
    "print(brown.categories())\n",
    "\n",
    "# Menampilkan beberapa kalimat dari korpus\n",
    "print(brown.sents(categories='news')[:5])\n"
   ]
  },
  {
   "cell_type": "markdown",
   "metadata": {},
   "source": []
  }
 ],
 "metadata": {
  "language_info": {
   "name": "python"
  }
 },
 "nbformat": 4,
 "nbformat_minor": 2
}
