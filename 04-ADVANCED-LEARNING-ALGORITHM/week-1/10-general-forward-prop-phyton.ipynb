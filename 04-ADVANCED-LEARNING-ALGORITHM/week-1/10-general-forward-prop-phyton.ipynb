{
 "cells": [
  {
   "cell_type": "markdown",
   "metadata": {},
   "source": [
    "# Implementasi Forward Propagation dalam Python\n",
    "\n",
    "Pada video terakhir, kamu melihat bagaimana cara mengimplementasikan forward propagation dalam Python dengan menulis kode secara manual untuk setiap neuron. Sekarang, mari kita lihat implementasi forward propagation yang lebih umum dalam Python. \n",
    "\n",
    "Tujuan saya dalam video ini adalah untuk menunjukkan kode tersebut sehingga ketika kamu melihatnya lagi di lab praktik atau lab opsional, kamu tahu bagaimana cara menginterpretasikannya. Saat kita melalui contoh ini, jangan khawatir untuk mencatat setiap baris kode. Jika kamu dapat membaca kode dan memahaminya, itu sudah cukup. \n",
    "\n",
    "## Fungsi Dense Layer\n",
    "Kamu bisa menulis fungsi untuk mengimplementasikan dense layer, yaitu satu lapisan dari neural network. Saya akan mendefinisikan fungsi dense, yang menerima aktivasi dari lapisan sebelumnya, serta parameter `w` dan `b` untuk neuron dalam lapisan tertentu. \n",
    "\n",
    "Menggunakan contoh dari video sebelumnya, jika lapisan 1 memiliki tiga neuron, dan jika `w_1`, `w_2`, dan `w_3` adalah parameter tersebut, kita akan menumpuk semua vektor `w` ini ke dalam sebuah matriks. Ini akan menjadi matriks 2x3, di mana kolom pertama adalah parameter `w_1,1`, kolom kedua adalah parameter `w_1,2`, dan kolom ketiga adalah parameter `w_1,3`. \n",
    "\n",
    "Demikian pula, jika kamu memiliki parameter `b`, seperti `b_1,1 = -1`, `b_1,2 = 1`, dan seterusnya, maka kita akan menumpuk ketiga angka ini ke dalam sebuah array 1D `b` seperti berikut: `[-1, 1, 2]`. \n",
    "\n",
    "Fungsi dense ini akan menerima input aktivasi dari lapisan sebelumnya, yang bisa berupa `a_0` yang sama dengan `x`, atau aktivasi dari lapisan selanjutnya, serta parameter `w` yang ditumpuk dalam kolom, seperti yang ditunjukkan di sebelah kanan, dan parameter `b` juga ditumpuk ke dalam array 1D.\n",
    "\n",
    "Fungsi ini akan memasukkan `a` dari aktivasi lapisan sebelumnya dan akan mengeluarkan aktivasi dari lapisan saat ini. Mari kita lihat kode untuk melakukan ini.\n",
    "\n",
    "<img src=\"img/image-18.png\" alt=\"Contoh Deteksi Mobil\" style=\"display: block; margin-left: auto; margin-right: auto; width: 800px;\">\n",
    "\n",
    "### Kode Dense Function\n",
    "```python\n",
    "def dense(a, W, b):\n",
    "    units = W.shape[1]  # Mengambil jumlah kolom dari W\n",
    "    a = np.zeros(units)  # Menginisialisasi array a dengan nol\n",
    "\n",
    "    for j in range(units):\n",
    "        w = W[:, j]  # Mengambil kolom ke-j dari W\n",
    "        z = np.dot(w, a) + b[j]  # Menghitung z\n",
    "        a[j] = sigmoid(z)  # Menghitung aktivasi a[j]\n",
    "\n",
    "    return a  # Mengembalikan aktivasi\n",
    "```\n",
    "\n",
    "units adalah jumlah unit dalam lapisan ini. Dalam contoh ini, karena W adalah matriks 2x3, units akan bernilai 3.\n",
    "Selanjutnya, kita menetapkan a sebagai array nol dengan jumlah elemen sebanyak unit yang ada, di mana kita perlu menghasilkan tiga nilai aktivasi.\n",
    "Kita menggunakan loop for untuk menghitung elemen pertama, kedua, dan ketiga dari a.\n",
    "Menggunakan np.dot untuk menghitung produk dot antara parameter w dan aktivasi yang diterima, kemudian menambahkan b[j].\n",
    "Selanjutnya, kita menghitung aktivasi a[j] menggunakan fungsi sigmoid.\n",
    "Menghubungkan Dense Layers\n",
    "Dengan fungsi dense, berikut adalah cara untuk menyusun beberapa dense layers secara berurutan untuk mengimplementasikan forward propagation dalam neural network.\n",
    "\n",
    "Diberikan fitur input x, kamu bisa menghitung aktivasi a_1 sebagai:\n",
    "\n",
    "a_1 = dense(x, W_1, b_1)  # Lapisan tersembunyi pertama\n",
    "Kemudian kamu bisa menghitung a_2 sebagai:\n",
    "\n",
    "a_2 = dense(a_1, W_2, b_2)  # Lapisan tersembunyi kedua\n",
    "Kemudian lanjutkan untuk menghitung a_3 dan a_4. Jika ini adalah neural network dengan empat lapisan, maka output f(x) cukup ditetapkan sebagai a_4, sehingga kamu mengembalikan f(x).\n",
    "\n",
    "Perhatikan bahwa saya menggunakan huruf kapital untuk W, sesuai dengan konvensi notasi dari aljabar linier, di mana huruf besar merujuk pada matriks, dan huruf kecil merujuk pada vektor dan skalar."
   ]
  },
  {
   "cell_type": "markdown",
   "metadata": {},
   "source": []
  }
 ],
 "metadata": {
  "language_info": {
   "name": "python"
  }
 },
 "nbformat": 4,
 "nbformat_minor": 2
}
