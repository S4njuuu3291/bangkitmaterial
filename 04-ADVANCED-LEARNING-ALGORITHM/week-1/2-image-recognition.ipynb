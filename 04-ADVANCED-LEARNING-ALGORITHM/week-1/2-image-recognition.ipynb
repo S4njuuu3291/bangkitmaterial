{
 "cells": [
  {
   "cell_type": "markdown",
   "metadata": {},
   "source": [
    "# Jaringan Saraf untuk Aplikasi Computer Vision\n",
    "\n",
    "### Pengantar\n",
    "Di video sebelumnya, Anda telah melihat bagaimana jaringan saraf bekerja dalam contoh prediksi permintaan. Sekarang, mari kita lihat bagaimana Anda dapat menerapkan konsep serupa pada aplikasi _computer vision_. Mari kita mulai.\n",
    "\n",
    "### Contoh Pengenalan Wajah\n",
    "Jika Anda sedang membangun aplikasi pengenalan wajah, Anda mungkin ingin melatih jaringan saraf yang mengambil gambar sebagai input dan menghasilkan identitas orang dalam gambar.\n",
    "\n",
    "<img src=\"img\\image-2.png\" alt=\"Contoh Pengenalan Wajah\" style=\"display: block; margin-left: auto; margin-right: auto; width: 800px;\">\n",
    "\n",
    "Gambar ini memiliki ukuran 1.000 x 1.000 piksel. Representasinya dalam komputer adalah sebagai grid 1.000 x 1.000, atau disebut juga matriks 1.000 x 1.000 dari nilai intensitas piksel. Dalam contoh ini, nilai intensitas atau kecerahan piksel berada dalam rentang 0-255, di mana 197 adalah kecerahan piksel di bagian kiri atas, 185 adalah kecerahan satu piksel di sampingnya, dan seterusnya hingga 214 di pojok kanan bawah gambar.\n",
    "\n",
    "Jika Anda mengambil nilai intensitas piksel ini dan menyusunnya menjadi vektor, Anda akan mendapatkan daftar atau vektor dari sejuta nilai intensitas piksel. Satu juta, karena 1.000 x 1.000 memberi Anda sejuta angka.\n",
    "\n",
    "### Masalah Pengenalan Wajah\n",
    "Masalah pengenalan wajah adalah, bisakah Anda melatih jaringan saraf yang mengambil input berupa vektor fitur dengan sejuta nilai intensitas piksel dan menghasilkan identitas orang dalam gambar?\n",
    "\n",
    "Inilah cara Anda membangun jaringan saraf untuk melakukan tugas ini:\n",
    "\n",
    "1. **Input Gambar (X)**: Diberikan ke lapisan pertama neuron yang merupakan lapisan tersembunyi pertama. \n",
    "2. **Ekstraksi Fitur**: Output dari lapisan tersembunyi pertama diberikan ke lapisan tersembunyi kedua dan seterusnya, hingga lapisan output memperkirakan identitas orang tersebut.\n",
    "\n",
    "Pada lapisan tersembunyi pertama, neuron mungkin mencari garis vertikal pendek, dan pada lapisan berikutnya, neuron dapat mendeteksi bagian-bagian wajah seperti mata atau hidung. Akhirnya, lapisan terakhir menyatukan bagian-bagian wajah tersebut untuk menentukan identitas.\n",
    "\n",
    "### Pelatihan Jaringan Saraf\n",
    "Hal yang menarik adalah jaringan saraf ini belajar mendeteksi fitur-fitur di berbagai lapisan tersembunyi secara mandiri. Pada lapisan pertama, neuron mungkin belajar mendeteksi tepi pendek. Di lapisan berikutnya, neuron mengelompokkan tepi-tepi kecil ini untuk membentuk bagian-bagian wajah, seperti mata atau hidung. Pada lapisan terakhir, bagian-bagian wajah tersebut digabungkan untuk mengidentifikasi keseluruhan bentuk wajah.\n",
    "\n",
    "### Contoh Penggunaan Data yang Berbeda\n",
    "Jika Anda melatih jaringan saraf ini dengan dataset berbeda, misalnya gambar mobil, jaringan saraf akan belajar mendeteksi tepi-tepi mobil di lapisan pertama, bagian-bagian mobil di lapisan kedua, dan bentuk mobil di lapisan ketiga. Dengan hanya mengganti dataset, jaringan saraf secara otomatis belajar mendeteksi fitur yang berbeda sesuai dengan tugasnya.\n",
    "\n",
    "<img src=\"img\\image-3.png\" alt=\"Contoh Deteksi Mobil\" style=\"display: block; margin-left: auto; margin-right: auto; width: 800px;\">\n",
    "\n",
    "### Penerapan Lain\n",
    "Nantinya, Anda akan belajar bagaimana membangun jaringan saraf sendiri dan menerapkannya pada aplikasi pengenalan angka tulisan tangan. Dalam video berikutnya, kita akan mendalami matematika dan implementasi konkret dari cara membangun lapisan jaringan saraf dan menerapkannya sendiri.\n",
    "\n",
    "# Pertanyaan dan Jawaban\n",
    "\n",
    "## Pertanyaan 1:\n",
    "**Bagaimana jaringan saraf dapat digunakan untuk pengenalan wajah?**\n",
    "- **Jawaban**: Jaringan saraf digunakan untuk pengenalan wajah dengan menerima gambar sebagai input dan mengekstrak fitur melalui hidden layers. Setiap layer mendeteksi fitur yang berbeda; misalnya, layer pertama mendeteksi tepi, layer kedua mendeteksi bagian-bagian wajah seperti mata atau hidung, dan layer terakhir menggabungkan informasi ini untuk menentukan identitas.\n",
    "\n",
    "## Pertanyaan 2:\n",
    "**Mengapa kita tidak bisa mengamati nilai aktivasi atau proses perhitungan dalam hidden layer?**\n",
    "- **Jawaban**: Kita tidak bisa mengamati nilai aktivasi di hidden layer karena informasi tersebut tidak dapat diakses secara langsung. Kita hanya bisa melihat input dan output dari jaringan, tetapi tidak detail proses perhitungan di setiap layer tersembunyi.\n",
    "\n",
    "## Pertanyaan 3:\n",
    "**Bagaimana cara perubahan dataset (misalnya dari gambar wajah ke gambar mobil) mempengaruhi cara jaringan saraf belajar mendeteksi fitur? Apa yang terjadi di setiap lapisan dalam konteks dataset yang berbeda?**\n",
    "- **Jawaban**: Perubahan dataset mempengaruhi cara jaringan saraf belajar mendeteksi fitur, tetapi konsep deteksi tetap sama. Di setiap layer, jaringan mengekstrak fitur dari kecil ke besar; untuk dataset mobil, layer pertama mendeteksi tepi (edges), layer berikutnya mengenali bagian-bagian mobil (seperti roda), dan output layer mengidentifikasi keseluruhan bentuk mobil. Jaringan secara otomatis menyesuaikan bobot dan bias berdasarkan dataset yang digunakan untuk pelatihan.\n",
    "\n"
   ]
  },
  {
   "cell_type": "markdown",
   "metadata": {},
   "source": []
  }
 ],
 "metadata": {
  "language_info": {
   "name": "python"
  }
 },
 "nbformat": 4,
 "nbformat_minor": 2
}
